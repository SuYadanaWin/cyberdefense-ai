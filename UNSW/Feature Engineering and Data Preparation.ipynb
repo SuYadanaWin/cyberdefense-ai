{
 "cells": [
  {
   "cell_type": "markdown",
   "metadata": {
    "colab_type": "text",
    "id": "YWffoP0FqwE4"
   },
   "source": [
    "# UNSW-NB15: Feature Engineering"
   ]
  },
  {
   "cell_type": "code",
   "execution_count": null,
   "metadata": {
    "colab": {},
    "colab_type": "code",
    "id": "NOMATARHRcV5"
   },
   "outputs": [],
   "source": [
    "# Loading data from disk\n",
    "train = pd.read_csv('./train_alldata_EDA.csv')\n",
    "test = pd.read_csv('./test_alldata_EDA.csv')"
   ]
  },
  {
   "cell_type": "code",
   "execution_count": null,
   "metadata": {
    "colab": {},
    "colab_type": "code",
    "id": "fIc3neXESMFG"
   },
   "outputs": [],
   "source": [
    "# Utility function\n",
    "def multi_corr(col1, col2=\"label\", df=train):\n",
    "    '''\n",
    "    This function returns correlation between 2 given features.\n",
    "    Also gives corr of the given features with \"label\" afetr applying log1p to it.\n",
    "    '''\n",
    "    corr = df[[col1, col2]].corr().iloc[0,1]\n",
    "    log_corr = df[col1].apply(np.log1p).corr(df[col2])\n",
    "\n",
    "    print(\"Correlation : {}\\nlog_Correlation: {}\".format(corr, log_corr))"
   ]
  },
  {
   "cell_type": "code",
   "execution_count": null,
   "metadata": {
    "colab": {},
    "colab_type": "code",
    "id": "3LJoqWxGSMFK"
   },
   "outputs": [],
   "source": [
    "def corr(col1, col2=\"label\", df=train):\n",
    "    \"\"\"\n",
    "    This function returns correlation between 2 given features\n",
    "    \"\"\"\n",
    "    return df[[col1, col2]].corr().iloc[0,1]"
   ]
  },
  {
   "cell_type": "markdown",
   "metadata": {
    "colab_type": "text",
    "id": "2QWyeKKUQsz4"
   },
   "source": [
    "## Removing highly correlated features"
   ]
  },
  {
   "cell_type": "code",
   "execution_count": null,
   "metadata": {
    "colab": {},
    "colab_type": "code",
    "id": "wloRudezQsz7"
   },
   "outputs": [],
   "source": [
    "# Selecting all the features with high correlation values with other features\n",
    "# Refer: https://chrisalbon.com/machine_learning/feature_selection/drop_highly_correlated_features/\n",
    "corr_matrix = train.corr().abs()\n",
    "\n",
    "# Select upper triangle of correlation matrix\n",
    "upper = corr_matrix.where(np.triu(np.ones(corr_matrix.shape), k=1).astype(np.bool))\n",
    "\n",
    "# Find index of feature columns with correlation greater than 0.9\n",
    "to_drop = [column for column in upper.columns if any(upper[column] > 0.95)]"
   ]
  },
  {
   "cell_type": "code",
   "execution_count": null,
   "metadata": {
    "colab": {
     "base_uri": "https://localhost:8080/",
     "height": 34
    },
    "colab_type": "code",
    "executionInfo": {
     "elapsed": 1980,
     "status": "ok",
     "timestamp": 1598254586384,
     "user": {
      "displayName": "Subrata Maji",
      "photoUrl": "https://lh3.googleusercontent.com/a-/AOh14Ghxu8VIGqB6XL51-t5wM_f1R1LdmEePYHIwb9b-=s64",
      "userId": "03124174213573157612"
     },
     "user_tz": -330
    },
    "id": "cyd3R92wQs0C",
    "outputId": "6783c75c-abb2-4120-9d13-9a76e4d8b41e"
   },
   "outputs": [
    {
     "name": "stdout",
     "output_type": "stream",
     "text": [
      "['sloss', 'dloss', 'dpkts', 'dwin', 'ltime', 'ct_srv_dst', 'ct_src_dport_ltm', 'ct_dst_src_ltm']\n"
     ]
    }
   ],
   "source": [
    "# We don't want to use these features for plotting because these are having high corr\n",
    "# And most likely have same kind of plots with already plotted feature\n",
    "print(to_drop)"
   ]
  },
  {
   "cell_type": "code",
   "execution_count": null,
   "metadata": {
    "colab": {},
    "colab_type": "code",
    "id": "PWylTNjdQs0H"
   },
   "outputs": [],
   "source": [
    "saved_dict['corr_col'] = to_drop"
   ]
  },
  {
   "cell_type": "code",
   "execution_count": null,
   "metadata": {
    "colab": {},
    "colab_type": "code",
    "id": "C0-3uVfIQs0M"
   },
   "outputs": [],
   "source": [
    "# removing the features from train and test data\n",
    "train.drop(columns=to_drop, inplace=True)"
   ]
  },
  {
   "cell_type": "code",
   "execution_count": null,
   "metadata": {
    "colab": {
     "base_uri": "https://localhost:8080/",
     "height": 34
    },
    "colab_type": "code",
    "executionInfo": {
     "elapsed": 742,
     "status": "ok",
     "timestamp": 1598254591696,
     "user": {
      "displayName": "Subrata Maji",
      "photoUrl": "https://lh3.googleusercontent.com/a-/AOh14Ghxu8VIGqB6XL51-t5wM_f1R1LdmEePYHIwb9b-=s64",
      "userId": "03124174213573157612"
     },
     "user_tz": -330
    },
    "id": "BFYbC6urQs0Q",
    "outputId": "9d85f065-04de-4d79-d028-62272a1c9c58"
   },
   "outputs": [
    {
     "data": {
      "text/plain": [
       "((1778032, 41), (762015, 49))"
      ]
     },
     "execution_count": 7,
     "metadata": {
      "tags": []
     },
     "output_type": "execute_result"
    }
   ],
   "source": [
    "train.shape, test.shape"
   ]
  },
  {
   "cell_type": "code",
   "execution_count": null,
   "metadata": {
    "colab": {},
    "colab_type": "code",
    "id": "amjoXyqG0UfC"
   },
   "outputs": [],
   "source": [
    "# creating new features\n",
    "train['network_bytes'] = train['sbytes'] + train['dbytes']"
   ]
  },
  {
   "cell_type": "code",
   "execution_count": null,
   "metadata": {
    "colab": {
     "base_uri": "https://localhost:8080/",
     "height": 34
    },
    "colab_type": "code",
    "executionInfo": {
     "elapsed": 862,
     "status": "ok",
     "timestamp": 1598254597524,
     "user": {
      "displayName": "Subrata Maji",
      "photoUrl": "https://lh3.googleusercontent.com/a-/AOh14Ghxu8VIGqB6XL51-t5wM_f1R1LdmEePYHIwb9b-=s64",
      "userId": "03124174213573157612"
     },
     "user_tz": -330
    },
    "id": "E5M8hMaLrGrw",
    "outputId": "af23a58a-56cd-4c56-ecca-9f91efbd78f4"
   },
   "outputs": [
    {
     "data": {
      "text/plain": [
       "((1778032, 42), (762015, 49))"
      ]
     },
     "execution_count": 9,
     "metadata": {
      "tags": []
     },
     "output_type": "execute_result"
    }
   ],
   "source": [
    "train.shape, test.shape"
   ]
  },
  {
   "cell_type": "code",
   "execution_count": null,
   "metadata": {
    "colab": {},
    "colab_type": "code",
    "id": "0Bht_lnc2S62"
   },
   "outputs": [],
   "source": [
    "# Dropping columns which are not useful for the classification\n",
    "# attack_cat is for multiclass classification\n",
    "# all the other columns are address related and not present in sample train data\n",
    "train.drop(['srcip', 'sport', 'dstip', 'dsport', 'attack_cat'], axis=1, inplace=True)"
   ]
  },
  {
   "cell_type": "code",
   "execution_count": null,
   "metadata": {
    "colab": {},
    "colab_type": "code",
    "id": "qKmGyfTs_rrw"
   },
   "outputs": [],
   "source": [
    "# To use during test data transformation\n",
    "saved_dict['to_drop'] = ['srcip', 'sport', 'dstip', 'dsport', 'attack_cat']"
   ]
  },
  {
   "cell_type": "code",
   "execution_count": null,
   "metadata": {
    "colab": {
     "base_uri": "https://localhost:8080/",
     "height": 34
    },
    "colab_type": "code",
    "executionInfo": {
     "elapsed": 1665,
     "status": "ok",
     "timestamp": 1598254605266,
     "user": {
      "displayName": "Subrata Maji",
      "photoUrl": "https://lh3.googleusercontent.com/a-/AOh14Ghxu8VIGqB6XL51-t5wM_f1R1LdmEePYHIwb9b-=s64",
      "userId": "03124174213573157612"
     },
     "user_tz": -330
    },
    "id": "1MN4vE9aQT_V",
    "outputId": "e8112a4e-173d-4862-da60-137b420bcf95"
   },
   "outputs": [
    {
     "data": {
      "text/plain": [
       "((1778032, 37), (762015, 49))"
      ]
     },
     "execution_count": 11,
     "metadata": {
      "tags": []
     },
     "output_type": "execute_result"
    }
   ],
   "source": [
    "train.shape, test.shape"
   ]
  },
  {
   "cell_type": "markdown",
   "metadata": {
    "colab_type": "text",
    "id": "KiifyFft0GSo"
   },
   "source": [
    "## Applying log1p on Numerical columns\n",
    "\n",
    "During EDA we found that few numerical columns shows better visualization for pdf curves if we apply log1p to the columns.\n",
    "\n",
    "So I thought to try log1p on all the columns and check the correlation value of the original column and log1p column with target column i.e. \"label\""
   ]
  },
  {
   "cell_type": "code",
   "execution_count": null,
   "metadata": {
    "colab": {},
    "colab_type": "code",
    "id": "JjpXQ3oWrmiI"
   },
   "outputs": [],
   "source": [
    "# Getting number of unique values of all the columns\n",
    "# If the unique values are high that means it has continuous set of values\n",
    "col_unique_values = train.nunique()"
   ]
  },
  {
   "cell_type": "code",
   "execution_count": null,
   "metadata": {
    "colab": {},
    "colab_type": "code",
    "id": "tf9pWtnWulGB"
   },
   "outputs": [],
   "source": [
    "# If the unique values are getter than some threshould than we will check its corr\n",
    "col = col_unique_values[col_unique_values>200].index"
   ]
  },
  {
   "cell_type": "code",
   "execution_count": null,
   "metadata": {
    "colab": {
     "base_uri": "https://localhost:8080/",
     "height": 1000
    },
    "colab_type": "code",
    "executionInfo": {
     "elapsed": 3776,
     "status": "ok",
     "timestamp": 1598252740703,
     "user": {
      "displayName": "Subrata Maji",
      "photoUrl": "https://lh3.googleusercontent.com/a-/AOh14Ghxu8VIGqB6XL51-t5wM_f1R1LdmEePYHIwb9b-=s64",
      "userId": "03124174213573157612"
     },
     "user_tz": -330
    },
    "id": "NC0f9_qLwMm5",
    "outputId": "29e12135-6ac1-4a7e-caea-fd72213bbf2c"
   },
   "outputs": [
    {
     "name": "stdout",
     "output_type": "stream",
     "text": [
      "-------------dur--------------\n",
      "Correlation : 0.001927402870127572\n",
      "log_Correlation: -0.032544137564606314\n",
      "------------sbytes------------\n",
      "Correlation : 0.010344749695328405\n",
      "log_Correlation: -0.356163155589846\n",
      "------------dbytes------------\n",
      "Correlation : -0.07641408324455988\n",
      "log_Correlation: -0.5193868283741504\n",
      "------------sload-------------\n",
      "Correlation : 0.19211948100191475\n",
      "log_Correlation: 0.34746601450349446\n",
      "------------dload-------------\n",
      "Correlation : -0.21978094390335498\n",
      "log_Correlation: -0.6033545881626384\n",
      "------------spkts-------------\n",
      "Correlation : -0.12200425437272483\n",
      "log_Correlation: -0.31635338269675845\n",
      "------------stcpb-------------\n",
      "Correlation : -0.23365153315631276\n",
      "log_Correlation: -0.3135563222142899\n",
      "------------dtcpb-------------\n",
      "Correlation : -0.2334607177357848\n",
      "log_Correlation: -0.31340064798120926\n",
      "-----------smeansz------------\n",
      "Correlation : -0.0651799037902329\n",
      "log_Correlation: -0.15111450989648403\n",
      "-----------dmeansz------------\n",
      "Correlation : -0.2723060560764758\n",
      "log_Correlation: -0.5646402127401745\n",
      "---------res_bdy_len----------\n",
      "Correlation : -0.02689685265943092\n",
      "log_Correlation: -0.06794901821505832\n",
      "-------------sjit-------------\n",
      "Correlation : 0.02097463276991951\n",
      "log_Correlation: -0.18939100046544083\n",
      "-------------djit-------------\n",
      "Correlation : -0.056086460714824815\n",
      "log_Correlation: -0.20487075694129495\n",
      "------------stime-------------\n",
      "Correlation : 0.27571439334631603\n",
      "log_Correlation: 0.2757139750761029\n",
      "-----------sintpkt------------\n",
      "Correlation : -0.018971416506356795\n",
      "log_Correlation: -0.08027556633947588\n",
      "-----------dintpkt------------\n",
      "Correlation : -0.010747058729764747\n",
      "log_Correlation: -0.07938735519639496\n",
      "------------tcprtt------------\n",
      "Correlation : 0.14592508147671115\n",
      "log_Correlation: 0.18606697323316698\n",
      "------------synack------------\n",
      "Correlation : 0.12439627235234195\n",
      "log_Correlation: 0.1552259883602492\n",
      "------------ackdat------------\n",
      "Correlation : 0.14712408841164695\n",
      "log_Correlation: 0.17962040804022444\n",
      "--------network_bytes---------\n",
      "Correlation : -0.0679096563179392\n",
      "log_Correlation: -0.41043328745985463\n"
     ]
    }
   ],
   "source": [
    "# Checking corr value of original col and log1p applied col\n",
    "# Taking those columns whose unique values are getter than some threshould\n",
    "for column in col:\n",
    "    print(\"{:-^30}\".format(column))\n",
    "    multi_corr(column)"
   ]
  },
  {
   "cell_type": "code",
   "execution_count": null,
   "metadata": {
    "colab": {},
    "colab_type": "code",
    "id": "a0ydWVD2yQ-l"
   },
   "outputs": [],
   "source": [
    "# Will apply log1p on this columns and remove original columns\n",
    "log1p_col = ['dur', 'sbytes', 'dbytes', 'sload', 'dload', 'spkts', 'stcpb', 'dtcpb', 'smeansz', 'dmeansz', 'sjit', 'djit', 'network_bytes']"
   ]
  },
  {
   "cell_type": "code",
   "execution_count": null,
   "metadata": {
    "colab": {},
    "colab_type": "code",
    "id": "NaP_SChj_3x_"
   },
   "outputs": [],
   "source": [
    "saved_dict['log1p_col'] = log1p_col"
   ]
  },
  {
   "cell_type": "code",
   "execution_count": null,
   "metadata": {
    "colab": {},
    "colab_type": "code",
    "id": "ibWUIhAU_8Em"
   },
   "outputs": [],
   "source": [
    "# mode values of every features, will use to fill Null values of test\n",
    "mode_dict = train.mode().iloc[0].to_dict()"
   ]
  },
  {
   "cell_type": "code",
   "execution_count": null,
   "metadata": {
    "colab": {},
    "colab_type": "code",
    "id": "Ck9W5AcD4nOk"
   },
   "outputs": [],
   "source": [
    "def log1p_transform(col, df=train):\n",
    "    '''\n",
    "    Apply log1p on given column.\n",
    "    Remove the original cola and keep log1p applied col\n",
    "    '''\n",
    "    new_col = col+'_log1p'\n",
    "    df[new_col] = df[col].apply(np.log1p)\n",
    "    df.drop(col, axis=1, inplace=True)"
   ]
  },
  {
   "cell_type": "code",
   "execution_count": null,
   "metadata": {
    "colab": {},
    "colab_type": "code",
    "id": "l4JWdr225k9S"
   },
   "outputs": [],
   "source": [
    "# Transforming columns with log1p\n",
    "for col in log1p_col:\n",
    "    log1p_transform(col, df=train)"
   ]
  },
  {
   "cell_type": "code",
   "execution_count": null,
   "metadata": {
    "colab": {
     "base_uri": "https://localhost:8080/",
     "height": 34
    },
    "colab_type": "code",
    "executionInfo": {
     "elapsed": 1270,
     "status": "ok",
     "timestamp": 1598254631197,
     "user": {
      "displayName": "Subrata Maji",
      "photoUrl": "https://lh3.googleusercontent.com/a-/AOh14Ghxu8VIGqB6XL51-t5wM_f1R1LdmEePYHIwb9b-=s64",
      "userId": "03124174213573157612"
     },
     "user_tz": -330
    },
    "id": "ZsgRqtKaSz1j",
    "outputId": "59497e73-3b4f-45e3-93f3-28a4e979384b"
   },
   "outputs": [
    {
     "data": {
      "text/plain": [
       "(1778032, 37)"
      ]
     },
     "execution_count": 15,
     "metadata": {
      "tags": []
     },
     "output_type": "execute_result"
    }
   ],
   "source": [
    "train.shape"
   ]
  },
  {
   "cell_type": "code",
   "execution_count": null,
   "metadata": {
    "colab": {
     "base_uri": "https://localhost:8080/",
     "height": 170
    },
    "colab_type": "code",
    "executionInfo": {
     "elapsed": 1467,
     "status": "ok",
     "timestamp": 1598254633748,
     "user": {
      "displayName": "Subrata Maji",
      "photoUrl": "https://lh3.googleusercontent.com/a-/AOh14Ghxu8VIGqB6XL51-t5wM_f1R1LdmEePYHIwb9b-=s64",
      "userId": "03124174213573157612"
     },
     "user_tz": -330
    },
    "id": "yrLZ3F9T5y_x",
    "outputId": "c0b56aca-287c-487c-cb7d-04e237af731f"
   },
   "outputs": [
    {
     "data": {
      "text/plain": [
       "Index(['proto', 'state', 'sttl', 'dttl', 'service', 'swin', 'trans_depth',\n",
       "       'res_bdy_len', 'stime', 'sintpkt', 'dintpkt', 'tcprtt', 'synack',\n",
       "       'ackdat', 'is_sm_ips_ports', 'ct_state_ttl', 'ct_flw_http_mthd',\n",
       "       'is_ftp_login', 'ct_ftp_cmd', 'ct_srv_src', 'ct_dst_ltm', 'ct_src_ltm',\n",
       "       'ct_dst_sport_ltm', 'label', 'dur_log1p', 'sbytes_log1p',\n",
       "       'dbytes_log1p', 'sload_log1p', 'dload_log1p', 'spkts_log1p',\n",
       "       'stcpb_log1p', 'dtcpb_log1p', 'smeansz_log1p', 'dmeansz_log1p',\n",
       "       'sjit_log1p', 'djit_log1p', 'network_bytes_log1p'],\n",
       "      dtype='object')"
      ]
     },
     "execution_count": 16,
     "metadata": {
      "tags": []
     },
     "output_type": "execute_result"
    }
   ],
   "source": [
    "train.columns"
   ]
  },
  {
   "cell_type": "code",
   "execution_count": null,
   "metadata": {
    "colab": {
     "base_uri": "https://localhost:8080/",
     "height": 34
    },
    "colab_type": "code",
    "executionInfo": {
     "elapsed": 2037,
     "status": "ok",
     "timestamp": 1598254639075,
     "user": {
      "displayName": "Subrata Maji",
      "photoUrl": "https://lh3.googleusercontent.com/a-/AOh14Ghxu8VIGqB6XL51-t5wM_f1R1LdmEePYHIwb9b-=s64",
      "userId": "03124174213573157612"
     },
     "user_tz": -330
    },
    "id": "QXO4fhjU58gH",
    "outputId": "42a284f7-3dd3-4fcf-c970-7835ff6ce68a"
   },
   "outputs": [
    {
     "data": {
      "text/plain": [
       "((1778032, 37), (762015, 49))"
      ]
     },
     "execution_count": 17,
     "metadata": {
      "tags": []
     },
     "output_type": "execute_result"
    }
   ],
   "source": [
    "train.shape, test.shape"
   ]
  },
  {
   "cell_type": "code",
   "execution_count": null,
   "metadata": {
    "colab": {},
    "colab_type": "code",
    "id": "5YvVxlBS6Anw"
   },
   "outputs": [],
   "source": [
    "# creating x and y set from the dataset\n",
    "x_train, y_train = train.drop(columns=['label']), train['label']\n",
    "x_test, y_test = test.drop(columns=['label']), test['label']"
   ]
  },
  {
   "cell_type": "code",
   "execution_count": null,
   "metadata": {
    "colab": {
     "base_uri": "https://localhost:8080/",
     "height": 68
    },
    "colab_type": "code",
    "executionInfo": {
     "elapsed": 996,
     "status": "ok",
     "timestamp": 1598252886305,
     "user": {
      "displayName": "Subrata Maji",
      "photoUrl": "https://lh3.googleusercontent.com/a-/AOh14Ghxu8VIGqB6XL51-t5wM_f1R1LdmEePYHIwb9b-=s64",
      "userId": "03124174213573157612"
     },
     "user_tz": -330
    },
    "id": "_rcY9ebK6USH",
    "outputId": "57848477-e19f-411a-fd58-83a1820d4724"
   },
   "outputs": [
    {
     "name": "stdout",
     "output_type": "stream",
     "text": [
      "(1778032, 36) (1778032,)\n",
      "\n",
      "(762015, 48) (762015,)\n"
     ]
    }
   ],
   "source": [
    "print(x_train.shape, y_train.shape)\n",
    "print()\n",
    "print(x_test.shape, y_test.shape)"
   ]
  },
  {
   "cell_type": "code",
   "execution_count": null,
   "metadata": {
    "colab": {},
    "colab_type": "code",
    "id": "wFEVBjtU72ad"
   },
   "outputs": [],
   "source": [
    "# Saving all the files to disk to use later\n",
    "pickle.dump((x_train, y_train), open('.final_ipynb/final_train.pkl', 'wb'))\n",
    "pickle.dump((x_test, y_test), open('.final_ipynb/final_test.pkl', 'wb'))"
   ]
  },
  {
   "cell_type": "code",
   "execution_count": null,
   "metadata": {
    "colab": {},
    "colab_type": "code",
    "id": "vXxUr-le6YNY"
   },
   "outputs": [],
   "source": [
    "# getting categorical and numerical columns in 2 diff lists\n",
    "cat_col = ['proto', 'service', 'state']\n",
    "num_col = list(set(x_train.columns) - set(cat_col))"
   ]
  },
  {
   "cell_type": "code",
   "execution_count": null,
   "metadata": {
    "colab": {},
    "colab_type": "code",
    "id": "rvGoI5IMAO1N"
   },
   "outputs": [],
   "source": [
    "# To use later, during test data cleaning\n",
    "saved_dict['cat_col'] = cat_col\n",
    "saved_dict['num_col'] = num_col"
   ]
  },
  {
   "cell_type": "code",
   "execution_count": null,
   "metadata": {
    "colab": {
     "base_uri": "https://localhost:8080/",
     "height": 224
    },
    "colab_type": "code",
    "executionInfo": {
     "elapsed": 738,
     "status": "ok",
     "timestamp": 1598252897213,
     "user": {
      "displayName": "Subrata Maji",
      "photoUrl": "https://lh3.googleusercontent.com/a-/AOh14Ghxu8VIGqB6XL51-t5wM_f1R1LdmEePYHIwb9b-=s64",
      "userId": "03124174213573157612"
     },
     "user_tz": -330
    },
    "id": "-QcxEKUz6kOj",
    "outputId": "c4781242-72ec-4990-cc29-3eeed91a7ef4"
   },
   "outputs": [
    {
     "data": {
      "text/html": [
       "<div>\n",
       "<style scoped>\n",
       "    .dataframe tbody tr th:only-of-type {\n",
       "        vertical-align: middle;\n",
       "    }\n",
       "\n",
       "    .dataframe tbody tr th {\n",
       "        vertical-align: top;\n",
       "    }\n",
       "\n",
       "    .dataframe thead th {\n",
       "        text-align: right;\n",
       "    }\n",
       "</style>\n",
       "<table border=\"1\" class=\"dataframe\">\n",
       "  <thead>\n",
       "    <tr style=\"text-align: right;\">\n",
       "      <th></th>\n",
       "      <th>proto</th>\n",
       "      <th>state</th>\n",
       "      <th>sttl</th>\n",
       "      <th>dttl</th>\n",
       "      <th>service</th>\n",
       "      <th>swin</th>\n",
       "      <th>trans_depth</th>\n",
       "      <th>res_bdy_len</th>\n",
       "      <th>stime</th>\n",
       "      <th>sintpkt</th>\n",
       "      <th>dintpkt</th>\n",
       "      <th>tcprtt</th>\n",
       "      <th>synack</th>\n",
       "      <th>ackdat</th>\n",
       "      <th>is_sm_ips_ports</th>\n",
       "      <th>ct_state_ttl</th>\n",
       "      <th>ct_flw_http_mthd</th>\n",
       "      <th>is_ftp_login</th>\n",
       "      <th>ct_ftp_cmd</th>\n",
       "      <th>ct_srv_src</th>\n",
       "      <th>ct_dst_ltm</th>\n",
       "      <th>ct_src_ltm</th>\n",
       "      <th>ct_dst_sport_ltm</th>\n",
       "      <th>dur_log1p</th>\n",
       "      <th>sbytes_log1p</th>\n",
       "      <th>dbytes_log1p</th>\n",
       "      <th>sload_log1p</th>\n",
       "      <th>dload_log1p</th>\n",
       "      <th>spkts_log1p</th>\n",
       "      <th>stcpb_log1p</th>\n",
       "      <th>dtcpb_log1p</th>\n",
       "      <th>smeansz_log1p</th>\n",
       "      <th>dmeansz_log1p</th>\n",
       "      <th>sjit_log1p</th>\n",
       "      <th>djit_log1p</th>\n",
       "      <th>network_bytes_log1p</th>\n",
       "    </tr>\n",
       "  </thead>\n",
       "  <tbody>\n",
       "    <tr>\n",
       "      <th>0</th>\n",
       "      <td>udp</td>\n",
       "      <td>INT</td>\n",
       "      <td>254</td>\n",
       "      <td>0</td>\n",
       "      <td>None</td>\n",
       "      <td>0</td>\n",
       "      <td>0</td>\n",
       "      <td>0</td>\n",
       "      <td>1421930643</td>\n",
       "      <td>33.479000</td>\n",
       "      <td>0.000000</td>\n",
       "      <td>0.000000</td>\n",
       "      <td>0.000000</td>\n",
       "      <td>0.000000</td>\n",
       "      <td>0</td>\n",
       "      <td>2</td>\n",
       "      <td>0.0</td>\n",
       "      <td>0</td>\n",
       "      <td>0</td>\n",
       "      <td>2</td>\n",
       "      <td>1</td>\n",
       "      <td>1</td>\n",
       "      <td>1</td>\n",
       "      <td>0.095707</td>\n",
       "      <td>5.187386</td>\n",
       "      <td>0.000000</td>\n",
       "      <td>9.275600</td>\n",
       "      <td>0.000000</td>\n",
       "      <td>1.609438</td>\n",
       "      <td>0.000000</td>\n",
       "      <td>0.000000</td>\n",
       "      <td>3.828641</td>\n",
       "      <td>0.000000</td>\n",
       "      <td>3.878042</td>\n",
       "      <td>0.000000</td>\n",
       "      <td>5.187386</td>\n",
       "    </tr>\n",
       "    <tr>\n",
       "      <th>1</th>\n",
       "      <td>udp</td>\n",
       "      <td>INT</td>\n",
       "      <td>60</td>\n",
       "      <td>0</td>\n",
       "      <td>dns</td>\n",
       "      <td>0</td>\n",
       "      <td>0</td>\n",
       "      <td>0</td>\n",
       "      <td>1424246229</td>\n",
       "      <td>0.008000</td>\n",
       "      <td>0.000000</td>\n",
       "      <td>0.000000</td>\n",
       "      <td>0.000000</td>\n",
       "      <td>0.000000</td>\n",
       "      <td>0</td>\n",
       "      <td>0</td>\n",
       "      <td>0.0</td>\n",
       "      <td>0</td>\n",
       "      <td>0</td>\n",
       "      <td>20</td>\n",
       "      <td>16</td>\n",
       "      <td>16</td>\n",
       "      <td>8</td>\n",
       "      <td>0.000008</td>\n",
       "      <td>5.579730</td>\n",
       "      <td>0.000000</td>\n",
       "      <td>18.698312</td>\n",
       "      <td>0.000000</td>\n",
       "      <td>1.098612</td>\n",
       "      <td>0.000000</td>\n",
       "      <td>0.000000</td>\n",
       "      <td>4.890349</td>\n",
       "      <td>0.000000</td>\n",
       "      <td>0.000000</td>\n",
       "      <td>0.000000</td>\n",
       "      <td>5.579730</td>\n",
       "    </tr>\n",
       "    <tr>\n",
       "      <th>2</th>\n",
       "      <td>tcp</td>\n",
       "      <td>FIN</td>\n",
       "      <td>31</td>\n",
       "      <td>29</td>\n",
       "      <td>None</td>\n",
       "      <td>255</td>\n",
       "      <td>0</td>\n",
       "      <td>0</td>\n",
       "      <td>1421948071</td>\n",
       "      <td>0.372205</td>\n",
       "      <td>0.348561</td>\n",
       "      <td>0.000681</td>\n",
       "      <td>0.000547</td>\n",
       "      <td>0.000134</td>\n",
       "      <td>0</td>\n",
       "      <td>0</td>\n",
       "      <td>0.0</td>\n",
       "      <td>0</td>\n",
       "      <td>0</td>\n",
       "      <td>18</td>\n",
       "      <td>3</td>\n",
       "      <td>4</td>\n",
       "      <td>1</td>\n",
       "      <td>0.014733</td>\n",
       "      <td>7.841100</td>\n",
       "      <td>10.048583</td>\n",
       "      <td>14.105347</td>\n",
       "      <td>16.314201</td>\n",
       "      <td>3.713572</td>\n",
       "      <td>20.196135</td>\n",
       "      <td>21.733479</td>\n",
       "      <td>4.174387</td>\n",
       "      <td>6.313548</td>\n",
       "      <td>0.000000</td>\n",
       "      <td>3.012070</td>\n",
       "      <td>10.152883</td>\n",
       "    </tr>\n",
       "    <tr>\n",
       "      <th>3</th>\n",
       "      <td>tcp</td>\n",
       "      <td>FIN</td>\n",
       "      <td>31</td>\n",
       "      <td>29</td>\n",
       "      <td>ftp</td>\n",
       "      <td>255</td>\n",
       "      <td>0</td>\n",
       "      <td>0</td>\n",
       "      <td>1421971944</td>\n",
       "      <td>16.144740</td>\n",
       "      <td>15.226283</td>\n",
       "      <td>0.000706</td>\n",
       "      <td>0.000553</td>\n",
       "      <td>0.000153</td>\n",
       "      <td>0</td>\n",
       "      <td>0</td>\n",
       "      <td>0.0</td>\n",
       "      <td>1</td>\n",
       "      <td>1</td>\n",
       "      <td>1</td>\n",
       "      <td>5</td>\n",
       "      <td>2</td>\n",
       "      <td>1</td>\n",
       "      <td>0.591974</td>\n",
       "      <td>7.984463</td>\n",
       "      <td>8.227108</td>\n",
       "      <td>10.258074</td>\n",
       "      <td>10.501435</td>\n",
       "      <td>3.970292</td>\n",
       "      <td>21.803017</td>\n",
       "      <td>20.494420</td>\n",
       "      <td>4.043051</td>\n",
       "      <td>4.248495</td>\n",
       "      <td>7.264606</td>\n",
       "      <td>3.984562</td>\n",
       "      <td>8.806124</td>\n",
       "    </tr>\n",
       "    <tr>\n",
       "      <th>4</th>\n",
       "      <td>tcp</td>\n",
       "      <td>FIN</td>\n",
       "      <td>31</td>\n",
       "      <td>29</td>\n",
       "      <td>None</td>\n",
       "      <td>255</td>\n",
       "      <td>0</td>\n",
       "      <td>0</td>\n",
       "      <td>1421963050</td>\n",
       "      <td>1.218800</td>\n",
       "      <td>1.065941</td>\n",
       "      <td>0.000592</td>\n",
       "      <td>0.000470</td>\n",
       "      <td>0.000122</td>\n",
       "      <td>0</td>\n",
       "      <td>0</td>\n",
       "      <td>0.0</td>\n",
       "      <td>0</td>\n",
       "      <td>0</td>\n",
       "      <td>8</td>\n",
       "      <td>10</td>\n",
       "      <td>10</td>\n",
       "      <td>1</td>\n",
       "      <td>0.018427</td>\n",
       "      <td>7.340187</td>\n",
       "      <td>7.405496</td>\n",
       "      <td>13.339317</td>\n",
       "      <td>13.412088</td>\n",
       "      <td>2.833213</td>\n",
       "      <td>20.673269</td>\n",
       "      <td>21.855078</td>\n",
       "      <td>4.574711</td>\n",
       "      <td>4.521789</td>\n",
       "      <td>4.309533</td>\n",
       "      <td>1.138118</td>\n",
       "      <td>8.066208</td>\n",
       "    </tr>\n",
       "  </tbody>\n",
       "</table>\n",
       "</div>"
      ],
      "text/plain": [
       "  proto state  sttl  ...  sjit_log1p djit_log1p  network_bytes_log1p\n",
       "0   udp   INT   254  ...    3.878042   0.000000             5.187386\n",
       "1   udp   INT    60  ...    0.000000   0.000000             5.579730\n",
       "2   tcp   FIN    31  ...    0.000000   3.012070            10.152883\n",
       "3   tcp   FIN    31  ...    7.264606   3.984562             8.806124\n",
       "4   tcp   FIN    31  ...    4.309533   1.138118             8.066208\n",
       "\n",
       "[5 rows x 36 columns]"
      ]
     },
     "execution_count": 29,
     "metadata": {
      "tags": []
     },
     "output_type": "execute_result"
    }
   ],
   "source": [
    "x_train.head()"
   ]
  },
  {
   "cell_type": "markdown",
   "metadata": {
    "colab_type": "text",
    "id": "OPugBJCJ4M2t"
   },
   "source": [
    "## Standardizing\n",
    "    \n",
    "As we have seen that the range of few features in this dataset is very large. So we will keep everything within certain range by applying standardscaler. After this all the features will have mean 0 and std 1"
   ]
  },
  {
   "cell_type": "code",
   "execution_count": null,
   "metadata": {
    "colab": {},
    "colab_type": "code",
    "id": "zahQPu3dAZyJ"
   },
   "outputs": [],
   "source": [
    "# Standardizing the data\n",
    "scaler = StandardScaler()\n",
    "scaler = scaler.fit(x_train[num_col])"
   ]
  },
  {
   "cell_type": "code",
   "execution_count": null,
   "metadata": {
    "colab": {},
    "colab_type": "code",
    "id": "0ERzXoVGAhNY"
   },
   "outputs": [],
   "source": [
    "x_train[num_col] = scaler.transform(x_train[num_col])"
   ]
  },
  {
   "cell_type": "code",
   "execution_count": null,
   "metadata": {
    "colab": {
     "base_uri": "https://localhost:8080/",
     "height": 224
    },
    "colab_type": "code",
    "executionInfo": {
     "elapsed": 1325,
     "status": "ok",
     "timestamp": 1598254679362,
     "user": {
      "displayName": "Subrata Maji",
      "photoUrl": "https://lh3.googleusercontent.com/a-/AOh14Ghxu8VIGqB6XL51-t5wM_f1R1LdmEePYHIwb9b-=s64",
      "userId": "03124174213573157612"
     },
     "user_tz": -330
    },
    "id": "bqrHkb0H7OXm",
    "outputId": "e14875d6-0293-4a88-bbe4-2c7b51db78f5"
   },
   "outputs": [
    {
     "data": {
      "text/html": [
       "<div>\n",
       "<style scoped>\n",
       "    .dataframe tbody tr th:only-of-type {\n",
       "        vertical-align: middle;\n",
       "    }\n",
       "\n",
       "    .dataframe tbody tr th {\n",
       "        vertical-align: top;\n",
       "    }\n",
       "\n",
       "    .dataframe thead th {\n",
       "        text-align: right;\n",
       "    }\n",
       "</style>\n",
       "<table border=\"1\" class=\"dataframe\">\n",
       "  <thead>\n",
       "    <tr style=\"text-align: right;\">\n",
       "      <th></th>\n",
       "      <th>proto</th>\n",
       "      <th>state</th>\n",
       "      <th>sttl</th>\n",
       "      <th>dttl</th>\n",
       "      <th>service</th>\n",
       "      <th>swin</th>\n",
       "      <th>trans_depth</th>\n",
       "      <th>res_bdy_len</th>\n",
       "      <th>stime</th>\n",
       "      <th>sintpkt</th>\n",
       "      <th>dintpkt</th>\n",
       "      <th>tcprtt</th>\n",
       "      <th>synack</th>\n",
       "      <th>ackdat</th>\n",
       "      <th>is_sm_ips_ports</th>\n",
       "      <th>ct_state_ttl</th>\n",
       "      <th>ct_flw_http_mthd</th>\n",
       "      <th>is_ftp_login</th>\n",
       "      <th>ct_ftp_cmd</th>\n",
       "      <th>ct_srv_src</th>\n",
       "      <th>ct_dst_ltm</th>\n",
       "      <th>ct_src_ltm</th>\n",
       "      <th>ct_dst_sport_ltm</th>\n",
       "      <th>dur_log1p</th>\n",
       "      <th>sbytes_log1p</th>\n",
       "      <th>dbytes_log1p</th>\n",
       "      <th>sload_log1p</th>\n",
       "      <th>dload_log1p</th>\n",
       "      <th>spkts_log1p</th>\n",
       "      <th>stcpb_log1p</th>\n",
       "      <th>dtcpb_log1p</th>\n",
       "      <th>smeansz_log1p</th>\n",
       "      <th>dmeansz_log1p</th>\n",
       "      <th>sjit_log1p</th>\n",
       "      <th>djit_log1p</th>\n",
       "      <th>network_bytes_log1p</th>\n",
       "    </tr>\n",
       "  </thead>\n",
       "  <tbody>\n",
       "    <tr>\n",
       "      <th>0</th>\n",
       "      <td>udp</td>\n",
       "      <td>INT</td>\n",
       "      <td>2.561444</td>\n",
       "      <td>-0.717760</td>\n",
       "      <td>None</td>\n",
       "      <td>-1.196045</td>\n",
       "      <td>-0.225343</td>\n",
       "      <td>-0.089113</td>\n",
       "      <td>-1.172764</td>\n",
       "      <td>-0.057567</td>\n",
       "      <td>-0.055099</td>\n",
       "      <td>-0.136439</td>\n",
       "      <td>-0.128893</td>\n",
       "      <td>-0.123848</td>\n",
       "      <td>-0.04053</td>\n",
       "      <td>2.541751</td>\n",
       "      <td>-0.198264</td>\n",
       "      <td>-0.132020</td>\n",
       "      <td>-0.111699</td>\n",
       "      <td>-0.665012</td>\n",
       "      <td>-0.666629</td>\n",
       "      <td>-0.719387</td>\n",
       "      <td>-0.419757</td>\n",
       "      <td>-0.251062</td>\n",
       "      <td>-1.052109</td>\n",
       "      <td>-1.703404</td>\n",
       "      <td>-1.383776</td>\n",
       "      <td>-1.879995</td>\n",
       "      <td>-0.704801</td>\n",
       "      <td>-1.190007</td>\n",
       "      <td>-1.189697</td>\n",
       "      <td>-1.137341</td>\n",
       "      <td>-1.850553</td>\n",
       "      <td>0.204270</td>\n",
       "      <td>-0.899657</td>\n",
       "      <td>-1.229918</td>\n",
       "    </tr>\n",
       "    <tr>\n",
       "      <th>1</th>\n",
       "      <td>udp</td>\n",
       "      <td>INT</td>\n",
       "      <td>-0.037542</td>\n",
       "      <td>-0.717760</td>\n",
       "      <td>dns</td>\n",
       "      <td>-1.196045</td>\n",
       "      <td>-0.225343</td>\n",
       "      <td>-0.089113</td>\n",
       "      <td>0.868469</td>\n",
       "      <td>-0.069616</td>\n",
       "      <td>-0.055099</td>\n",
       "      <td>-0.136439</td>\n",
       "      <td>-0.128893</td>\n",
       "      <td>-0.123848</td>\n",
       "      <td>-0.04053</td>\n",
       "      <td>-0.382468</td>\n",
       "      <td>-0.198264</td>\n",
       "      <td>-0.132020</td>\n",
       "      <td>-0.111699</td>\n",
       "      <td>0.996846</td>\n",
       "      <td>1.172325</td>\n",
       "      <td>1.109976</td>\n",
       "      <td>0.714379</td>\n",
       "      <td>-0.447582</td>\n",
       "      <td>-0.813189</td>\n",
       "      <td>-1.703404</td>\n",
       "      <td>1.614925</td>\n",
       "      <td>-1.879995</td>\n",
       "      <td>-1.080734</td>\n",
       "      <td>-1.190007</td>\n",
       "      <td>-1.189697</td>\n",
       "      <td>0.565988</td>\n",
       "      <td>-1.850553</td>\n",
       "      <td>-0.995343</td>\n",
       "      <td>-0.899657</td>\n",
       "      <td>-1.062092</td>\n",
       "    </tr>\n",
       "    <tr>\n",
       "      <th>2</th>\n",
       "      <td>tcp</td>\n",
       "      <td>FIN</td>\n",
       "      <td>-0.426051</td>\n",
       "      <td>-0.041365</td>\n",
       "      <td>None</td>\n",
       "      <td>0.836096</td>\n",
       "      <td>-0.225343</td>\n",
       "      <td>-0.089113</td>\n",
       "      <td>-1.157401</td>\n",
       "      <td>-0.069485</td>\n",
       "      <td>-0.054857</td>\n",
       "      <td>-0.121383</td>\n",
       "      <td>-0.107394</td>\n",
       "      <td>-0.118110</td>\n",
       "      <td>-0.04053</td>\n",
       "      <td>-0.382468</td>\n",
       "      <td>-0.198264</td>\n",
       "      <td>-0.132020</td>\n",
       "      <td>-0.111699</td>\n",
       "      <td>0.812195</td>\n",
       "      <td>-0.421435</td>\n",
       "      <td>-0.353515</td>\n",
       "      <td>-0.419757</td>\n",
       "      <td>-0.417344</td>\n",
       "      <td>0.563887</td>\n",
       "      <td>0.911063</td>\n",
       "      <td>0.153252</td>\n",
       "      <td>0.988351</td>\n",
       "      <td>0.843701</td>\n",
       "      <td>0.741629</td>\n",
       "      <td>0.888925</td>\n",
       "      <td>-0.582651</td>\n",
       "      <td>0.881301</td>\n",
       "      <td>-0.995343</td>\n",
       "      <td>0.170283</td>\n",
       "      <td>0.894089</td>\n",
       "    </tr>\n",
       "    <tr>\n",
       "      <th>3</th>\n",
       "      <td>tcp</td>\n",
       "      <td>FIN</td>\n",
       "      <td>-0.426051</td>\n",
       "      <td>-0.041365</td>\n",
       "      <td>ftp</td>\n",
       "      <td>0.836096</td>\n",
       "      <td>-0.225343</td>\n",
       "      <td>-0.089113</td>\n",
       "      <td>-1.136357</td>\n",
       "      <td>-0.063807</td>\n",
       "      <td>-0.044512</td>\n",
       "      <td>-0.120830</td>\n",
       "      <td>-0.107159</td>\n",
       "      <td>-0.117296</td>\n",
       "      <td>-0.04053</td>\n",
       "      <td>-0.382468</td>\n",
       "      <td>-0.198264</td>\n",
       "      <td>7.574602</td>\n",
       "      <td>5.349858</td>\n",
       "      <td>-0.757337</td>\n",
       "      <td>-0.176241</td>\n",
       "      <td>-0.597430</td>\n",
       "      <td>-0.419757</td>\n",
       "      <td>0.768030</td>\n",
       "      <td>0.651189</td>\n",
       "      <td>0.437147</td>\n",
       "      <td>-1.071111</td>\n",
       "      <td>-0.033644</td>\n",
       "      <td>1.032630</td>\n",
       "      <td>0.895318</td>\n",
       "      <td>0.770420</td>\n",
       "      <td>-0.793357</td>\n",
       "      <td>-0.012242</td>\n",
       "      <td>1.251851</td>\n",
       "      <td>0.515730</td>\n",
       "      <td>0.318009</td>\n",
       "    </tr>\n",
       "    <tr>\n",
       "      <th>4</th>\n",
       "      <td>tcp</td>\n",
       "      <td>FIN</td>\n",
       "      <td>-0.426051</td>\n",
       "      <td>-0.041365</td>\n",
       "      <td>None</td>\n",
       "      <td>0.836096</td>\n",
       "      <td>-0.225343</td>\n",
       "      <td>-0.089113</td>\n",
       "      <td>-1.144197</td>\n",
       "      <td>-0.069180</td>\n",
       "      <td>-0.054358</td>\n",
       "      <td>-0.123351</td>\n",
       "      <td>-0.110421</td>\n",
       "      <td>-0.118624</td>\n",
       "      <td>-0.04053</td>\n",
       "      <td>-0.382468</td>\n",
       "      <td>-0.198264</td>\n",
       "      <td>-0.132020</td>\n",
       "      <td>-0.111699</td>\n",
       "      <td>-0.111059</td>\n",
       "      <td>0.436744</td>\n",
       "      <td>0.378231</td>\n",
       "      <td>-0.419757</td>\n",
       "      <td>-0.409758</td>\n",
       "      <td>0.258853</td>\n",
       "      <td>0.223377</td>\n",
       "      <td>-0.090531</td>\n",
       "      <td>0.478104</td>\n",
       "      <td>0.195816</td>\n",
       "      <td>0.787264</td>\n",
       "      <td>0.900555</td>\n",
       "      <td>0.059601</td>\n",
       "      <td>0.106012</td>\n",
       "      <td>0.337745</td>\n",
       "      <td>-0.495378</td>\n",
       "      <td>0.001507</td>\n",
       "    </tr>\n",
       "  </tbody>\n",
       "</table>\n",
       "</div>"
      ],
      "text/plain": [
       "  proto state      sttl  ...  sjit_log1p djit_log1p  network_bytes_log1p\n",
       "0   udp   INT  2.561444  ...    0.204270  -0.899657            -1.229918\n",
       "1   udp   INT -0.037542  ...   -0.995343  -0.899657            -1.062092\n",
       "2   tcp   FIN -0.426051  ...   -0.995343   0.170283             0.894089\n",
       "3   tcp   FIN -0.426051  ...    1.251851   0.515730             0.318009\n",
       "4   tcp   FIN -0.426051  ...    0.337745  -0.495378             0.001507\n",
       "\n",
       "[5 rows x 36 columns]"
      ]
     },
     "execution_count": 23,
     "metadata": {
      "tags": []
     },
     "output_type": "execute_result"
    }
   ],
   "source": [
    "x_train.head()"
   ]
  },
  {
   "cell_type": "markdown",
   "metadata": {
    "colab_type": "text",
    "id": "-9sQ48qZ4ktf"
   },
   "source": [
    "## Onehot Encoding\n",
    "\n",
    "In our dataset we have few categorical columns with text data.\n",
    "But ML models can't process text data it can process numbers.\n",
    "\n",
    "So we have to convert categorical columns to numerical columns in some way.\n",
    "We will use onehotencoder where we will assign 1 if the value is present for the row and rest of the columns will be 0."
   ]
  },
  {
   "cell_type": "code",
   "execution_count": null,
   "metadata": {
    "colab": {},
    "colab_type": "code",
    "id": "Esez2EkUlZ3o"
   },
   "outputs": [],
   "source": [
    "# Onehot Encoding\n",
    "service_ = OneHotEncoder()\n",
    "proto_ = OneHotEncoder()\n",
    "state_ = OneHotEncoder()\n",
    "ohe_service = service_.fit(x_train.service.values.reshape(-1,1))\n",
    "ohe_proto = proto_.fit(x_train.proto.values.reshape(-1,1))\n",
    "ohe_state = state_.fit(x_train.state.values.reshape(-1,1))"
   ]
  },
  {
   "cell_type": "code",
   "execution_count": null,
   "metadata": {
    "colab": {},
    "colab_type": "code",
    "id": "GUc8MixOBcb_"
   },
   "outputs": [],
   "source": [
    "# We are onehot encoding the given column\n",
    "# Remove the original categorical column\n",
    "for col, ohe in zip(['proto', 'service', 'state'], [ohe_proto, ohe_service, ohe_state]):\n",
    "    x = ohe.transform(x_train[col].values.reshape(-1,1))\n",
    "    tmp_df = pd.DataFrame(x.todense(), columns=[col+'_'+i for i in ohe.categories_[0]])\n",
    "    x_train = pd.concat([x_train.drop(col, axis=1), tmp_df], axis=1)"
   ]
  },
  {
   "cell_type": "code",
   "execution_count": null,
   "metadata": {
    "colab": {
     "base_uri": "https://localhost:8080/",
     "height": 270
    },
    "colab_type": "code",
    "executionInfo": {
     "elapsed": 1512,
     "status": "ok",
     "timestamp": 1598254771621,
     "user": {
      "displayName": "Subrata Maji",
      "photoUrl": "https://lh3.googleusercontent.com/a-/AOh14Ghxu8VIGqB6XL51-t5wM_f1R1LdmEePYHIwb9b-=s64",
      "userId": "03124174213573157612"
     },
     "user_tz": -330
    },
    "id": "DO192yJJmbJs",
    "outputId": "0380cc6a-1b35-45ab-bee0-a98a4514107e"
   },
   "outputs": [
    {
     "data": {
      "text/html": [
       "<div>\n",
       "<style scoped>\n",
       "    .dataframe tbody tr th:only-of-type {\n",
       "        vertical-align: middle;\n",
       "    }\n",
       "\n",
       "    .dataframe tbody tr th {\n",
       "        vertical-align: top;\n",
       "    }\n",
       "\n",
       "    .dataframe thead th {\n",
       "        text-align: right;\n",
       "    }\n",
       "</style>\n",
       "<table border=\"1\" class=\"dataframe\">\n",
       "  <thead>\n",
       "    <tr style=\"text-align: right;\">\n",
       "      <th></th>\n",
       "      <th>sttl</th>\n",
       "      <th>dttl</th>\n",
       "      <th>swin</th>\n",
       "      <th>trans_depth</th>\n",
       "      <th>res_bdy_len</th>\n",
       "      <th>stime</th>\n",
       "      <th>sintpkt</th>\n",
       "      <th>dintpkt</th>\n",
       "      <th>tcprtt</th>\n",
       "      <th>synack</th>\n",
       "      <th>ackdat</th>\n",
       "      <th>is_sm_ips_ports</th>\n",
       "      <th>ct_state_ttl</th>\n",
       "      <th>ct_flw_http_mthd</th>\n",
       "      <th>is_ftp_login</th>\n",
       "      <th>ct_ftp_cmd</th>\n",
       "      <th>ct_srv_src</th>\n",
       "      <th>ct_dst_ltm</th>\n",
       "      <th>ct_src_ltm</th>\n",
       "      <th>ct_dst_sport_ltm</th>\n",
       "      <th>dur_log1p</th>\n",
       "      <th>sbytes_log1p</th>\n",
       "      <th>dbytes_log1p</th>\n",
       "      <th>sload_log1p</th>\n",
       "      <th>dload_log1p</th>\n",
       "      <th>spkts_log1p</th>\n",
       "      <th>stcpb_log1p</th>\n",
       "      <th>dtcpb_log1p</th>\n",
       "      <th>smeansz_log1p</th>\n",
       "      <th>dmeansz_log1p</th>\n",
       "      <th>sjit_log1p</th>\n",
       "      <th>djit_log1p</th>\n",
       "      <th>network_bytes_log1p</th>\n",
       "      <th>proto_3pc</th>\n",
       "      <th>proto_a/n</th>\n",
       "      <th>proto_aes-sp3-d</th>\n",
       "      <th>proto_any</th>\n",
       "      <th>proto_argus</th>\n",
       "      <th>proto_aris</th>\n",
       "      <th>proto_arp</th>\n",
       "      <th>...</th>\n",
       "      <th>proto_vines</th>\n",
       "      <th>proto_visa</th>\n",
       "      <th>proto_vmtp</th>\n",
       "      <th>proto_vrrp</th>\n",
       "      <th>proto_wb-expak</th>\n",
       "      <th>proto_wb-mon</th>\n",
       "      <th>proto_wsn</th>\n",
       "      <th>proto_xnet</th>\n",
       "      <th>proto_xns-idp</th>\n",
       "      <th>proto_xtp</th>\n",
       "      <th>proto_zero</th>\n",
       "      <th>service_None</th>\n",
       "      <th>service_dhcp</th>\n",
       "      <th>service_dns</th>\n",
       "      <th>service_ftp</th>\n",
       "      <th>service_ftp-data</th>\n",
       "      <th>service_http</th>\n",
       "      <th>service_irc</th>\n",
       "      <th>service_pop3</th>\n",
       "      <th>service_radius</th>\n",
       "      <th>service_smtp</th>\n",
       "      <th>service_snmp</th>\n",
       "      <th>service_ssh</th>\n",
       "      <th>service_ssl</th>\n",
       "      <th>state_ACC</th>\n",
       "      <th>state_CLO</th>\n",
       "      <th>state_CON</th>\n",
       "      <th>state_ECO</th>\n",
       "      <th>state_ECR</th>\n",
       "      <th>state_FIN</th>\n",
       "      <th>state_INT</th>\n",
       "      <th>state_MAS</th>\n",
       "      <th>state_PAR</th>\n",
       "      <th>state_REQ</th>\n",
       "      <th>state_RST</th>\n",
       "      <th>state_TST</th>\n",
       "      <th>state_TXD</th>\n",
       "      <th>state_URH</th>\n",
       "      <th>state_URN</th>\n",
       "      <th>state_no</th>\n",
       "    </tr>\n",
       "  </thead>\n",
       "  <tbody>\n",
       "    <tr>\n",
       "      <th>0</th>\n",
       "      <td>2.561444</td>\n",
       "      <td>-0.717760</td>\n",
       "      <td>-1.196045</td>\n",
       "      <td>-0.225343</td>\n",
       "      <td>-0.089113</td>\n",
       "      <td>-1.172764</td>\n",
       "      <td>-0.057567</td>\n",
       "      <td>-0.055099</td>\n",
       "      <td>-0.136439</td>\n",
       "      <td>-0.128893</td>\n",
       "      <td>-0.123848</td>\n",
       "      <td>-0.04053</td>\n",
       "      <td>2.541751</td>\n",
       "      <td>-0.198264</td>\n",
       "      <td>-0.132020</td>\n",
       "      <td>-0.111699</td>\n",
       "      <td>-0.665012</td>\n",
       "      <td>-0.666629</td>\n",
       "      <td>-0.719387</td>\n",
       "      <td>-0.419757</td>\n",
       "      <td>-0.251062</td>\n",
       "      <td>-1.052109</td>\n",
       "      <td>-1.703404</td>\n",
       "      <td>-1.383776</td>\n",
       "      <td>-1.879995</td>\n",
       "      <td>-0.704801</td>\n",
       "      <td>-1.190007</td>\n",
       "      <td>-1.189697</td>\n",
       "      <td>-1.137341</td>\n",
       "      <td>-1.850553</td>\n",
       "      <td>0.204270</td>\n",
       "      <td>-0.899657</td>\n",
       "      <td>-1.229918</td>\n",
       "      <td>0.0</td>\n",
       "      <td>0.0</td>\n",
       "      <td>0.0</td>\n",
       "      <td>0.0</td>\n",
       "      <td>0.0</td>\n",
       "      <td>0.0</td>\n",
       "      <td>0.0</td>\n",
       "      <td>...</td>\n",
       "      <td>0.0</td>\n",
       "      <td>0.0</td>\n",
       "      <td>0.0</td>\n",
       "      <td>0.0</td>\n",
       "      <td>0.0</td>\n",
       "      <td>0.0</td>\n",
       "      <td>0.0</td>\n",
       "      <td>0.0</td>\n",
       "      <td>0.0</td>\n",
       "      <td>0.0</td>\n",
       "      <td>0.0</td>\n",
       "      <td>1.0</td>\n",
       "      <td>0.0</td>\n",
       "      <td>0.0</td>\n",
       "      <td>0.0</td>\n",
       "      <td>0.0</td>\n",
       "      <td>0.0</td>\n",
       "      <td>0.0</td>\n",
       "      <td>0.0</td>\n",
       "      <td>0.0</td>\n",
       "      <td>0.0</td>\n",
       "      <td>0.0</td>\n",
       "      <td>0.0</td>\n",
       "      <td>0.0</td>\n",
       "      <td>0.0</td>\n",
       "      <td>0.0</td>\n",
       "      <td>0.0</td>\n",
       "      <td>0.0</td>\n",
       "      <td>0.0</td>\n",
       "      <td>0.0</td>\n",
       "      <td>1.0</td>\n",
       "      <td>0.0</td>\n",
       "      <td>0.0</td>\n",
       "      <td>0.0</td>\n",
       "      <td>0.0</td>\n",
       "      <td>0.0</td>\n",
       "      <td>0.0</td>\n",
       "      <td>0.0</td>\n",
       "      <td>0.0</td>\n",
       "      <td>0.0</td>\n",
       "    </tr>\n",
       "    <tr>\n",
       "      <th>1</th>\n",
       "      <td>-0.037542</td>\n",
       "      <td>-0.717760</td>\n",
       "      <td>-1.196045</td>\n",
       "      <td>-0.225343</td>\n",
       "      <td>-0.089113</td>\n",
       "      <td>0.868469</td>\n",
       "      <td>-0.069616</td>\n",
       "      <td>-0.055099</td>\n",
       "      <td>-0.136439</td>\n",
       "      <td>-0.128893</td>\n",
       "      <td>-0.123848</td>\n",
       "      <td>-0.04053</td>\n",
       "      <td>-0.382468</td>\n",
       "      <td>-0.198264</td>\n",
       "      <td>-0.132020</td>\n",
       "      <td>-0.111699</td>\n",
       "      <td>0.996846</td>\n",
       "      <td>1.172325</td>\n",
       "      <td>1.109976</td>\n",
       "      <td>0.714379</td>\n",
       "      <td>-0.447582</td>\n",
       "      <td>-0.813189</td>\n",
       "      <td>-1.703404</td>\n",
       "      <td>1.614925</td>\n",
       "      <td>-1.879995</td>\n",
       "      <td>-1.080734</td>\n",
       "      <td>-1.190007</td>\n",
       "      <td>-1.189697</td>\n",
       "      <td>0.565988</td>\n",
       "      <td>-1.850553</td>\n",
       "      <td>-0.995343</td>\n",
       "      <td>-0.899657</td>\n",
       "      <td>-1.062092</td>\n",
       "      <td>0.0</td>\n",
       "      <td>0.0</td>\n",
       "      <td>0.0</td>\n",
       "      <td>0.0</td>\n",
       "      <td>0.0</td>\n",
       "      <td>0.0</td>\n",
       "      <td>0.0</td>\n",
       "      <td>...</td>\n",
       "      <td>0.0</td>\n",
       "      <td>0.0</td>\n",
       "      <td>0.0</td>\n",
       "      <td>0.0</td>\n",
       "      <td>0.0</td>\n",
       "      <td>0.0</td>\n",
       "      <td>0.0</td>\n",
       "      <td>0.0</td>\n",
       "      <td>0.0</td>\n",
       "      <td>0.0</td>\n",
       "      <td>0.0</td>\n",
       "      <td>0.0</td>\n",
       "      <td>0.0</td>\n",
       "      <td>1.0</td>\n",
       "      <td>0.0</td>\n",
       "      <td>0.0</td>\n",
       "      <td>0.0</td>\n",
       "      <td>0.0</td>\n",
       "      <td>0.0</td>\n",
       "      <td>0.0</td>\n",
       "      <td>0.0</td>\n",
       "      <td>0.0</td>\n",
       "      <td>0.0</td>\n",
       "      <td>0.0</td>\n",
       "      <td>0.0</td>\n",
       "      <td>0.0</td>\n",
       "      <td>0.0</td>\n",
       "      <td>0.0</td>\n",
       "      <td>0.0</td>\n",
       "      <td>0.0</td>\n",
       "      <td>1.0</td>\n",
       "      <td>0.0</td>\n",
       "      <td>0.0</td>\n",
       "      <td>0.0</td>\n",
       "      <td>0.0</td>\n",
       "      <td>0.0</td>\n",
       "      <td>0.0</td>\n",
       "      <td>0.0</td>\n",
       "      <td>0.0</td>\n",
       "      <td>0.0</td>\n",
       "    </tr>\n",
       "    <tr>\n",
       "      <th>2</th>\n",
       "      <td>-0.426051</td>\n",
       "      <td>-0.041365</td>\n",
       "      <td>0.836096</td>\n",
       "      <td>-0.225343</td>\n",
       "      <td>-0.089113</td>\n",
       "      <td>-1.157401</td>\n",
       "      <td>-0.069485</td>\n",
       "      <td>-0.054857</td>\n",
       "      <td>-0.121383</td>\n",
       "      <td>-0.107394</td>\n",
       "      <td>-0.118110</td>\n",
       "      <td>-0.04053</td>\n",
       "      <td>-0.382468</td>\n",
       "      <td>-0.198264</td>\n",
       "      <td>-0.132020</td>\n",
       "      <td>-0.111699</td>\n",
       "      <td>0.812195</td>\n",
       "      <td>-0.421435</td>\n",
       "      <td>-0.353515</td>\n",
       "      <td>-0.419757</td>\n",
       "      <td>-0.417344</td>\n",
       "      <td>0.563887</td>\n",
       "      <td>0.911063</td>\n",
       "      <td>0.153252</td>\n",
       "      <td>0.988351</td>\n",
       "      <td>0.843701</td>\n",
       "      <td>0.741629</td>\n",
       "      <td>0.888925</td>\n",
       "      <td>-0.582651</td>\n",
       "      <td>0.881301</td>\n",
       "      <td>-0.995343</td>\n",
       "      <td>0.170283</td>\n",
       "      <td>0.894089</td>\n",
       "      <td>0.0</td>\n",
       "      <td>0.0</td>\n",
       "      <td>0.0</td>\n",
       "      <td>0.0</td>\n",
       "      <td>0.0</td>\n",
       "      <td>0.0</td>\n",
       "      <td>0.0</td>\n",
       "      <td>...</td>\n",
       "      <td>0.0</td>\n",
       "      <td>0.0</td>\n",
       "      <td>0.0</td>\n",
       "      <td>0.0</td>\n",
       "      <td>0.0</td>\n",
       "      <td>0.0</td>\n",
       "      <td>0.0</td>\n",
       "      <td>0.0</td>\n",
       "      <td>0.0</td>\n",
       "      <td>0.0</td>\n",
       "      <td>0.0</td>\n",
       "      <td>1.0</td>\n",
       "      <td>0.0</td>\n",
       "      <td>0.0</td>\n",
       "      <td>0.0</td>\n",
       "      <td>0.0</td>\n",
       "      <td>0.0</td>\n",
       "      <td>0.0</td>\n",
       "      <td>0.0</td>\n",
       "      <td>0.0</td>\n",
       "      <td>0.0</td>\n",
       "      <td>0.0</td>\n",
       "      <td>0.0</td>\n",
       "      <td>0.0</td>\n",
       "      <td>0.0</td>\n",
       "      <td>0.0</td>\n",
       "      <td>0.0</td>\n",
       "      <td>0.0</td>\n",
       "      <td>0.0</td>\n",
       "      <td>1.0</td>\n",
       "      <td>0.0</td>\n",
       "      <td>0.0</td>\n",
       "      <td>0.0</td>\n",
       "      <td>0.0</td>\n",
       "      <td>0.0</td>\n",
       "      <td>0.0</td>\n",
       "      <td>0.0</td>\n",
       "      <td>0.0</td>\n",
       "      <td>0.0</td>\n",
       "      <td>0.0</td>\n",
       "    </tr>\n",
       "    <tr>\n",
       "      <th>3</th>\n",
       "      <td>-0.426051</td>\n",
       "      <td>-0.041365</td>\n",
       "      <td>0.836096</td>\n",
       "      <td>-0.225343</td>\n",
       "      <td>-0.089113</td>\n",
       "      <td>-1.136357</td>\n",
       "      <td>-0.063807</td>\n",
       "      <td>-0.044512</td>\n",
       "      <td>-0.120830</td>\n",
       "      <td>-0.107159</td>\n",
       "      <td>-0.117296</td>\n",
       "      <td>-0.04053</td>\n",
       "      <td>-0.382468</td>\n",
       "      <td>-0.198264</td>\n",
       "      <td>7.574602</td>\n",
       "      <td>5.349858</td>\n",
       "      <td>-0.757337</td>\n",
       "      <td>-0.176241</td>\n",
       "      <td>-0.597430</td>\n",
       "      <td>-0.419757</td>\n",
       "      <td>0.768030</td>\n",
       "      <td>0.651189</td>\n",
       "      <td>0.437147</td>\n",
       "      <td>-1.071111</td>\n",
       "      <td>-0.033644</td>\n",
       "      <td>1.032630</td>\n",
       "      <td>0.895318</td>\n",
       "      <td>0.770420</td>\n",
       "      <td>-0.793357</td>\n",
       "      <td>-0.012242</td>\n",
       "      <td>1.251851</td>\n",
       "      <td>0.515730</td>\n",
       "      <td>0.318009</td>\n",
       "      <td>0.0</td>\n",
       "      <td>0.0</td>\n",
       "      <td>0.0</td>\n",
       "      <td>0.0</td>\n",
       "      <td>0.0</td>\n",
       "      <td>0.0</td>\n",
       "      <td>0.0</td>\n",
       "      <td>...</td>\n",
       "      <td>0.0</td>\n",
       "      <td>0.0</td>\n",
       "      <td>0.0</td>\n",
       "      <td>0.0</td>\n",
       "      <td>0.0</td>\n",
       "      <td>0.0</td>\n",
       "      <td>0.0</td>\n",
       "      <td>0.0</td>\n",
       "      <td>0.0</td>\n",
       "      <td>0.0</td>\n",
       "      <td>0.0</td>\n",
       "      <td>0.0</td>\n",
       "      <td>0.0</td>\n",
       "      <td>0.0</td>\n",
       "      <td>1.0</td>\n",
       "      <td>0.0</td>\n",
       "      <td>0.0</td>\n",
       "      <td>0.0</td>\n",
       "      <td>0.0</td>\n",
       "      <td>0.0</td>\n",
       "      <td>0.0</td>\n",
       "      <td>0.0</td>\n",
       "      <td>0.0</td>\n",
       "      <td>0.0</td>\n",
       "      <td>0.0</td>\n",
       "      <td>0.0</td>\n",
       "      <td>0.0</td>\n",
       "      <td>0.0</td>\n",
       "      <td>0.0</td>\n",
       "      <td>1.0</td>\n",
       "      <td>0.0</td>\n",
       "      <td>0.0</td>\n",
       "      <td>0.0</td>\n",
       "      <td>0.0</td>\n",
       "      <td>0.0</td>\n",
       "      <td>0.0</td>\n",
       "      <td>0.0</td>\n",
       "      <td>0.0</td>\n",
       "      <td>0.0</td>\n",
       "      <td>0.0</td>\n",
       "    </tr>\n",
       "    <tr>\n",
       "      <th>4</th>\n",
       "      <td>-0.426051</td>\n",
       "      <td>-0.041365</td>\n",
       "      <td>0.836096</td>\n",
       "      <td>-0.225343</td>\n",
       "      <td>-0.089113</td>\n",
       "      <td>-1.144197</td>\n",
       "      <td>-0.069180</td>\n",
       "      <td>-0.054358</td>\n",
       "      <td>-0.123351</td>\n",
       "      <td>-0.110421</td>\n",
       "      <td>-0.118624</td>\n",
       "      <td>-0.04053</td>\n",
       "      <td>-0.382468</td>\n",
       "      <td>-0.198264</td>\n",
       "      <td>-0.132020</td>\n",
       "      <td>-0.111699</td>\n",
       "      <td>-0.111059</td>\n",
       "      <td>0.436744</td>\n",
       "      <td>0.378231</td>\n",
       "      <td>-0.419757</td>\n",
       "      <td>-0.409758</td>\n",
       "      <td>0.258853</td>\n",
       "      <td>0.223377</td>\n",
       "      <td>-0.090531</td>\n",
       "      <td>0.478104</td>\n",
       "      <td>0.195816</td>\n",
       "      <td>0.787264</td>\n",
       "      <td>0.900555</td>\n",
       "      <td>0.059601</td>\n",
       "      <td>0.106012</td>\n",
       "      <td>0.337745</td>\n",
       "      <td>-0.495378</td>\n",
       "      <td>0.001507</td>\n",
       "      <td>0.0</td>\n",
       "      <td>0.0</td>\n",
       "      <td>0.0</td>\n",
       "      <td>0.0</td>\n",
       "      <td>0.0</td>\n",
       "      <td>0.0</td>\n",
       "      <td>0.0</td>\n",
       "      <td>...</td>\n",
       "      <td>0.0</td>\n",
       "      <td>0.0</td>\n",
       "      <td>0.0</td>\n",
       "      <td>0.0</td>\n",
       "      <td>0.0</td>\n",
       "      <td>0.0</td>\n",
       "      <td>0.0</td>\n",
       "      <td>0.0</td>\n",
       "      <td>0.0</td>\n",
       "      <td>0.0</td>\n",
       "      <td>0.0</td>\n",
       "      <td>1.0</td>\n",
       "      <td>0.0</td>\n",
       "      <td>0.0</td>\n",
       "      <td>0.0</td>\n",
       "      <td>0.0</td>\n",
       "      <td>0.0</td>\n",
       "      <td>0.0</td>\n",
       "      <td>0.0</td>\n",
       "      <td>0.0</td>\n",
       "      <td>0.0</td>\n",
       "      <td>0.0</td>\n",
       "      <td>0.0</td>\n",
       "      <td>0.0</td>\n",
       "      <td>0.0</td>\n",
       "      <td>0.0</td>\n",
       "      <td>0.0</td>\n",
       "      <td>0.0</td>\n",
       "      <td>0.0</td>\n",
       "      <td>1.0</td>\n",
       "      <td>0.0</td>\n",
       "      <td>0.0</td>\n",
       "      <td>0.0</td>\n",
       "      <td>0.0</td>\n",
       "      <td>0.0</td>\n",
       "      <td>0.0</td>\n",
       "      <td>0.0</td>\n",
       "      <td>0.0</td>\n",
       "      <td>0.0</td>\n",
       "      <td>0.0</td>\n",
       "    </tr>\n",
       "  </tbody>\n",
       "</table>\n",
       "<p>5 rows × 197 columns</p>\n",
       "</div>"
      ],
      "text/plain": [
       "       sttl      dttl      swin  ...  state_URH  state_URN  state_no\n",
       "0  2.561444 -0.717760 -1.196045  ...        0.0        0.0       0.0\n",
       "1 -0.037542 -0.717760 -1.196045  ...        0.0        0.0       0.0\n",
       "2 -0.426051 -0.041365  0.836096  ...        0.0        0.0       0.0\n",
       "3 -0.426051 -0.041365  0.836096  ...        0.0        0.0       0.0\n",
       "4 -0.426051 -0.041365  0.836096  ...        0.0        0.0       0.0\n",
       "\n",
       "[5 rows x 197 columns]"
      ]
     },
     "execution_count": 29,
     "metadata": {
      "tags": []
     },
     "output_type": "execute_result"
    }
   ],
   "source": [
    "x_train.head()"
   ]
  },
  {
   "cell_type": "markdown",
   "metadata": {
    "colab_type": "text",
    "id": "HB0cKgK1cISu"
   },
   "source": [
    "Saving all the important parameters and objects to disk so that we can apply same process on test data"
   ]
  },
  {
   "cell_type": "code",
   "execution_count": null,
   "metadata": {
    "colab": {},
    "colab_type": "code",
    "id": "d1joGxiQVUPT"
   },
   "outputs": [],
   "source": [
    "file_path = 'final_ipynb/'"
   ]
  },
  {
   "cell_type": "code",
   "execution_count": null,
   "metadata": {
    "colab": {},
    "colab_type": "code",
    "id": "b_FpdYpQErot"
   },
   "outputs": [],
   "source": [
    "pickle.dump(scaler, open(file_path+'scaler.pkl', 'wb'))  # Standard scaler\n",
    "pickle.dump(saved_dict, open(file_path+'saved_dict.pkl', 'wb'))  # Dictionary with important parameters\n",
    "pickle.dump(mode_dict, open(file_path+'mode_dict.pkl', 'wb'))  #  Dictionary with most frequent values of columns"
   ]
  },
  {
   "cell_type": "code",
   "execution_count": null,
   "metadata": {
    "colab": {},
    "colab_type": "code",
    "id": "T_Z5UekVFksJ"
   },
   "outputs": [],
   "source": [
    "# Onehot encoder for categorical columns\n",
    "pickle.dump(ohe_proto, open(file_path+'ohe_proto.pkl', 'wb'))\n",
    "pickle.dump(ohe_service, open(file_path+'ohe_service.pkl', 'wb'))\n",
    "pickle.dump(ohe_state, open(file_path+'ohe_state.pkl', 'wb'))"
   ]
  },
  {
   "cell_type": "code",
   "execution_count": null,
   "metadata": {
    "colab": {},
    "colab_type": "code",
    "id": "B_-6QrZdGtEK"
   },
   "outputs": [],
   "source": [
    "# Cleaned and processed train data\n",
    "pickle.dump((x_train, y_train), open(file_path+'final_train.pkl', 'wb'))"
   ]
  },
  {
   "cell_type": "markdown",
   "metadata": {
    "colab_type": "text",
    "id": "aN2r_OMDYEXw"
   },
   "source": [
    "## Pipeline functions"
   ]
  },
  {
   "cell_type": "code",
   "execution_count": null,
   "metadata": {
    "colab": {},
    "colab_type": "code",
    "id": "mbdSvaKIOpuL"
   },
   "outputs": [],
   "source": [
    "def clean_data(data):\n",
    "    '''\n",
    "    Cleans given raw data. Performs various cleaning, removes Null and wrong values.\n",
    "    Check for columns datatype and fix them.\n",
    "    '''\n",
    "    numerical_col = data.select_dtypes(include=np.number).columns  # All the numerical columns list\n",
    "    categorical_col = data.select_dtypes(exclude=np.number).columns  # All the categorical columns list\n",
    "    \n",
    "    # Cleaning the data\n",
    "    for col in data.columns:\n",
    "        val = mode_dict[col]  # Mode value of the column in train data\n",
    "        data[col] = data[col].fillna(value=val)\n",
    "        data[col] = data[col].replace(' ', value=val)\n",
    "        data[col] = data[col].apply(lambda x:\"None\" if x==\"-\" else x)\n",
    "\n",
    "        # Fixing binary columns\n",
    "        if col in saved_dict['binary_col']:\n",
    "            data[col] = np.where(data[col]>1, val, data[col])\n",
    "\n",
    "    # Fixing datatype of columns\n",
    "    bad_dtypes = list(set(categorical_col) - set(saved_dict['cat_col']))\n",
    "    for bad_col in bad_dtypes:\n",
    "        data[col] = data[col].astype(float)\n",
    "    \n",
    "    return data"
   ]
  },
  {
   "cell_type": "code",
   "execution_count": null,
   "metadata": {
    "colab": {},
    "colab_type": "code",
    "id": "_JN24bR5Vlqb"
   },
   "outputs": [],
   "source": [
    "def apply_log1p(data):\n",
    "    '''\n",
    "    Performs FE on the data. Apply log1p on the specified columns create new column and remove those original columns.\n",
    "    '''\n",
    "    for col in saved_dict['log1p_col']:\n",
    "        new_col = col + '_log1p'  # New col name\n",
    "        data[new_col] = data[col].apply(np.log1p)  # Creating new column on transformed data\n",
    "        data.drop(col, axis=1, inplace=True)  # Removing old columns\n",
    "    return data"
   ]
  },
  {
   "cell_type": "code",
   "execution_count": null,
   "metadata": {
    "colab": {},
    "colab_type": "code",
    "id": "uaJlj78XWGFA"
   },
   "outputs": [],
   "source": [
    "def standardize(data):\n",
    "    '''\n",
    "    Stanardize the given data. Performs mean centering and varience scaling.\n",
    "    Using stanardscaler object trained on train data.\n",
    "    '''\n",
    "    data[saved_dict['num_col']] = scaler.transform(data[saved_dict['num_col']])\n",
    "    return data"
   ]
  },
  {
   "cell_type": "code",
   "execution_count": null,
   "metadata": {
    "colab": {},
    "colab_type": "code",
    "id": "sWl6pGluquBP"
   },
   "outputs": [],
   "source": [
    "def ohencoding(data):\n",
    "    '''\n",
    "    Onehot encoding the categoricla columns.\n",
    "    Add the ohe columns with the data and removes categorical columns.\n",
    "    Using Onehotencoder objects trained on train data.\n",
    "    '''\n",
    "\n",
    "    # Onehot encoding cat col using onehotencoder objects\n",
    "    X = ohe_service.transform(data['service'].values.reshape(-1, 1))\n",
    "    Xm = ohe_proto.transform(data['proto'].values.reshape(-1, 1))\n",
    "    Xmm = ohe_state.transform(data['state'].values.reshape(-1, 1))\n",
    "    \n",
    "    # Adding encoding data to original data\n",
    "    data = pd.concat([data,\n",
    "                      pd.DataFrame(Xm.toarray(), columns=['proto_'+i for i in ohe_proto.categories_[0]]),\n",
    "                      pd.DataFrame(X.toarray(), columns=['service_'+i for i in ohe_service.categories_[0]]),\n",
    "                      pd.DataFrame(Xmm.toarray(), columns=['state_'+i for i in ohe_state.categories_[0]])],\n",
    "                      axis=1)\n",
    "    \n",
    "    # Removing cat columns\n",
    "    data.drop(['proto', 'service', 'state'], axis=1, inplace=True)\n",
    "\n",
    "    return data"
   ]
  },
  {
   "cell_type": "code",
   "execution_count": null,
   "metadata": {
    "colab": {},
    "colab_type": "code",
    "id": "nbVyiM21Hj2F"
   },
   "outputs": [],
   "source": [
    "# Parametrs\n",
    "saved_dict = pickle.load(open(file_path+'saved_dict.pkl', 'rb'))\n",
    "# Mode value of all the columns\n",
    "mode_dict = pickle.load(open(file_path+'mode_dict.pkl', 'rb'))\n",
    "# Stanardscaler object\n",
    "scaler = pickle.load(open(file_path+'scaler.pkl', 'rb'))"
   ]
  },
  {
   "cell_type": "code",
   "execution_count": null,
   "metadata": {
    "colab": {},
    "colab_type": "code",
    "id": "8KWNgXQLc_75"
   },
   "outputs": [],
   "source": [
    "# One hot encoder objects\n",
    "ohe_proto = pickle.load(open(file_path+'ohe_proto.pkl', 'rb'))\n",
    "ohe_service = pickle.load(open(file_path+'ohe_service.pkl', 'rb'))\n",
    "ohe_state = pickle.load(open(file_path+'ohe_state.pkl', 'rb'))"
   ]
  },
  {
   "cell_type": "code",
   "execution_count": null,
   "metadata": {
    "colab": {
     "base_uri": "https://localhost:8080/",
     "height": 34
    },
    "colab_type": "code",
    "executionInfo": {
     "elapsed": 971,
     "status": "ok",
     "timestamp": 1598254791308,
     "user": {
      "displayName": "Subrata Maji",
      "photoUrl": "https://lh3.googleusercontent.com/a-/AOh14Ghxu8VIGqB6XL51-t5wM_f1R1LdmEePYHIwb9b-=s64",
      "userId": "03124174213573157612"
     },
     "user_tz": -330
    },
    "id": "h9O_-z_ZlCE_",
    "outputId": "57909fa9-80c3-4a53-b041-b0f6d954560e"
   },
   "outputs": [
    {
     "data": {
      "text/plain": [
       "(762015, 48)"
      ]
     },
     "execution_count": 34,
     "metadata": {
      "tags": []
     },
     "output_type": "execute_result"
    }
   ],
   "source": [
    "x_test.shape"
   ]
  },
  {
   "cell_type": "code",
   "execution_count": null,
   "metadata": {
    "colab": {},
    "colab_type": "code",
    "id": "xrowypS2smFi"
   },
   "outputs": [],
   "source": [
    "# Resetting index of test data\n",
    "x_test.reset_index(drop=True, inplace=True)"
   ]
  },
  {
   "cell_type": "code",
   "execution_count": null,
   "metadata": {
    "colab": {
     "base_uri": "https://localhost:8080/",
     "height": 34
    },
    "colab_type": "code",
    "executionInfo": {
     "elapsed": 718,
     "status": "ok",
     "timestamp": 1598254793566,
     "user": {
      "displayName": "Subrata Maji",
      "photoUrl": "https://lh3.googleusercontent.com/a-/AOh14Ghxu8VIGqB6XL51-t5wM_f1R1LdmEePYHIwb9b-=s64",
      "userId": "03124174213573157612"
     },
     "user_tz": -330
    },
    "id": "nylwjO_Ifngf",
    "outputId": "84161159-1b04-433d-bf06-4b8f1a6870ea"
   },
   "outputs": [
    {
     "data": {
      "text/plain": [
       "(762015, 48)"
      ]
     },
     "execution_count": 36,
     "metadata": {
      "tags": []
     },
     "output_type": "execute_result"
    }
   ],
   "source": [
    "x_test.shape"
   ]
  },
  {
   "cell_type": "code",
   "execution_count": null,
   "metadata": {
    "colab": {
     "base_uri": "https://localhost:8080/",
     "height": 170
    },
    "colab_type": "code",
    "executionInfo": {
     "elapsed": 2073,
     "status": "ok",
     "timestamp": 1598254796641,
     "user": {
      "displayName": "Subrata Maji",
      "photoUrl": "https://lh3.googleusercontent.com/a-/AOh14Ghxu8VIGqB6XL51-t5wM_f1R1LdmEePYHIwb9b-=s64",
      "userId": "03124174213573157612"
     },
     "user_tz": -330
    },
    "id": "f2uMszD5tGF0",
    "outputId": "96b77406-1092-458d-a29a-84bf071e3a0f"
   },
   "outputs": [
    {
     "data": {
      "text/plain": [
       "Index(['srcip', 'sport', 'dstip', 'dsport', 'proto', 'state', 'dur', 'sbytes',\n",
       "       'dbytes', 'sttl', 'dttl', 'sloss', 'dloss', 'service', 'sload', 'dload',\n",
       "       'spkts', 'dpkts', 'swin', 'dwin', 'stcpb', 'dtcpb', 'smeansz',\n",
       "       'dmeansz', 'trans_depth', 'res_bdy_len', 'sjit', 'djit', 'stime',\n",
       "       'ltime', 'sintpkt', 'dintpkt', 'tcprtt', 'synack', 'ackdat',\n",
       "       'is_sm_ips_ports', 'ct_state_ttl', 'ct_flw_http_mthd', 'is_ftp_login',\n",
       "       'ct_ftp_cmd', 'ct_srv_src', 'ct_srv_dst', 'ct_dst_ltm', 'ct_src_ltm',\n",
       "       'ct_src_dport_ltm', 'ct_dst_sport_ltm', 'ct_dst_src_ltm', 'attack_cat'],\n",
       "      dtype='object')"
      ]
     },
     "execution_count": 37,
     "metadata": {
      "tags": []
     },
     "output_type": "execute_result"
    }
   ],
   "source": [
    "x_test.columns"
   ]
  },
  {
   "cell_type": "code",
   "execution_count": null,
   "metadata": {
    "colab": {},
    "colab_type": "code",
    "id": "nketS4eVXY9k"
   },
   "outputs": [],
   "source": [
    "# Adding column names\n",
    "x_test.columns = saved_dict['columns']"
   ]
  },
  {
   "cell_type": "code",
   "execution_count": null,
   "metadata": {
    "colab": {},
    "colab_type": "code",
    "id": "5icbXK2iXTye"
   },
   "outputs": [],
   "source": [
    "# Creating new Feature\n",
    "x_test['network_bytes'] = x_test['dbytes'] + x_test['sbytes']"
   ]
  },
  {
   "cell_type": "code",
   "execution_count": null,
   "metadata": {
    "colab": {},
    "colab_type": "code",
    "id": "134bXg3TZBg0"
   },
   "outputs": [],
   "source": [
    "# Droping all the unwanted columns\n",
    "dropable_col = saved_dict['to_drop'] + saved_dict['corr_col']\n",
    "x_test.drop(columns=dropable_col, inplace=True)"
   ]
  },
  {
   "cell_type": "code",
   "execution_count": null,
   "metadata": {
    "colab": {
     "base_uri": "https://localhost:8080/",
     "height": 34
    },
    "colab_type": "code",
    "executionInfo": {
     "elapsed": 1167,
     "status": "ok",
     "timestamp": 1598254805357,
     "user": {
      "displayName": "Subrata Maji",
      "photoUrl": "https://lh3.googleusercontent.com/a-/AOh14Ghxu8VIGqB6XL51-t5wM_f1R1LdmEePYHIwb9b-=s64",
      "userId": "03124174213573157612"
     },
     "user_tz": -330
    },
    "id": "0BUcBPhfZZDE",
    "outputId": "b33dd79a-8450-4b0b-b3ef-327e7fe4373c"
   },
   "outputs": [
    {
     "data": {
      "text/plain": [
       "(762015, 36)"
      ]
     },
     "execution_count": 41,
     "metadata": {
      "tags": []
     },
     "output_type": "execute_result"
    }
   ],
   "source": [
    "x_test.shape"
   ]
  },
  {
   "cell_type": "code",
   "execution_count": null,
   "metadata": {
    "colab": {},
    "colab_type": "code",
    "id": "lkyzpOcSZhFo"
   },
   "outputs": [],
   "source": [
    "# Cleaning data using clean_data()\n",
    "x_test = clean_data(x_test)"
   ]
  },
  {
   "cell_type": "code",
   "execution_count": null,
   "metadata": {
    "colab": {
     "base_uri": "https://localhost:8080/",
     "height": 34
    },
    "colab_type": "code",
    "executionInfo": {
     "elapsed": 629,
     "status": "ok",
     "timestamp": 1598254819165,
     "user": {
      "displayName": "Subrata Maji",
      "photoUrl": "https://lh3.googleusercontent.com/a-/AOh14Ghxu8VIGqB6XL51-t5wM_f1R1LdmEePYHIwb9b-=s64",
      "userId": "03124174213573157612"
     },
     "user_tz": -330
    },
    "id": "Pd9v3-ODWW0d",
    "outputId": "3ff7306c-085c-4ee9-9b3c-1ab8741af7ab"
   },
   "outputs": [
    {
     "data": {
      "text/plain": [
       "(762015, 36)"
      ]
     },
     "execution_count": 43,
     "metadata": {
      "tags": []
     },
     "output_type": "execute_result"
    }
   ],
   "source": [
    "x_test.shape"
   ]
  },
  {
   "cell_type": "code",
   "execution_count": null,
   "metadata": {
    "colab": {},
    "colab_type": "code",
    "id": "X5a1-ZRraESH"
   },
   "outputs": [],
   "source": [
    "# FE: applying log1p using apply_log1p()\n",
    "x_test = apply_log1p(x_test)"
   ]
  },
  {
   "cell_type": "code",
   "execution_count": null,
   "metadata": {
    "colab": {
     "base_uri": "https://localhost:8080/",
     "height": 34
    },
    "colab_type": "code",
    "executionInfo": {
     "elapsed": 827,
     "status": "ok",
     "timestamp": 1598254840234,
     "user": {
      "displayName": "Subrata Maji",
      "photoUrl": "https://lh3.googleusercontent.com/a-/AOh14Ghxu8VIGqB6XL51-t5wM_f1R1LdmEePYHIwb9b-=s64",
      "userId": "03124174213573157612"
     },
     "user_tz": -330
    },
    "id": "1e_xjHpRuULJ",
    "outputId": "a8792367-2674-4695-dbf1-32ebdc381513"
   },
   "outputs": [
    {
     "data": {
      "text/plain": [
       "(762015, 36)"
      ]
     },
     "execution_count": 45,
     "metadata": {
      "tags": []
     },
     "output_type": "execute_result"
    }
   ],
   "source": [
    "x_test.shape"
   ]
  },
  {
   "cell_type": "code",
   "execution_count": null,
   "metadata": {
    "colab": {
     "base_uri": "https://localhost:8080/",
     "height": 170
    },
    "colab_type": "code",
    "executionInfo": {
     "elapsed": 574,
     "status": "ok",
     "timestamp": 1598254841517,
     "user": {
      "displayName": "Subrata Maji",
      "photoUrl": "https://lh3.googleusercontent.com/a-/AOh14Ghxu8VIGqB6XL51-t5wM_f1R1LdmEePYHIwb9b-=s64",
      "userId": "03124174213573157612"
     },
     "user_tz": -330
    },
    "id": "aWh6xLQwWb3W",
    "outputId": "1115319e-c1cf-4a84-fac0-7535f5484b6e"
   },
   "outputs": [
    {
     "data": {
      "text/plain": [
       "Index(['proto', 'state', 'sttl', 'dttl', 'service', 'swin', 'trans_depth',\n",
       "       'res_bdy_len', 'stime', 'sintpkt', 'dintpkt', 'tcprtt', 'synack',\n",
       "       'ackdat', 'is_sm_ips_ports', 'ct_state_ttl', 'ct_flw_http_mthd',\n",
       "       'is_ftp_login', 'ct_ftp_cmd', 'ct_srv_src', 'ct_dst_ltm', 'ct_src_ltm',\n",
       "       'ct_dst_sport_ltm', 'dur_log1p', 'sbytes_log1p', 'dbytes_log1p',\n",
       "       'sload_log1p', 'dload_log1p', 'spkts_log1p', 'stcpb_log1p',\n",
       "       'dtcpb_log1p', 'smeansz_log1p', 'dmeansz_log1p', 'sjit_log1p',\n",
       "       'djit_log1p', 'network_bytes_log1p'],\n",
       "      dtype='object')"
      ]
     },
     "execution_count": 46,
     "metadata": {
      "tags": []
     },
     "output_type": "execute_result"
    }
   ],
   "source": [
    "x_test.columns"
   ]
  },
  {
   "cell_type": "code",
   "execution_count": null,
   "metadata": {
    "colab": {},
    "colab_type": "code",
    "id": "SovFBr2XaLMB"
   },
   "outputs": [],
   "source": [
    "# Standardscaling using stanardize()\n",
    "x_test = standardize(x_test)"
   ]
  },
  {
   "cell_type": "code",
   "execution_count": null,
   "metadata": {
    "colab": {
     "base_uri": "https://localhost:8080/",
     "height": 224
    },
    "colab_type": "code",
    "executionInfo": {
     "elapsed": 597,
     "status": "ok",
     "timestamp": 1598254856268,
     "user": {
      "displayName": "Subrata Maji",
      "photoUrl": "https://lh3.googleusercontent.com/a-/AOh14Ghxu8VIGqB6XL51-t5wM_f1R1LdmEePYHIwb9b-=s64",
      "userId": "03124174213573157612"
     },
     "user_tz": -330
    },
    "id": "f6HrpEbiWil5",
    "outputId": "c8859515-ff2e-4005-c37a-1d7d159a5952"
   },
   "outputs": [
    {
     "data": {
      "text/html": [
       "<div>\n",
       "<style scoped>\n",
       "    .dataframe tbody tr th:only-of-type {\n",
       "        vertical-align: middle;\n",
       "    }\n",
       "\n",
       "    .dataframe tbody tr th {\n",
       "        vertical-align: top;\n",
       "    }\n",
       "\n",
       "    .dataframe thead th {\n",
       "        text-align: right;\n",
       "    }\n",
       "</style>\n",
       "<table border=\"1\" class=\"dataframe\">\n",
       "  <thead>\n",
       "    <tr style=\"text-align: right;\">\n",
       "      <th></th>\n",
       "      <th>proto</th>\n",
       "      <th>state</th>\n",
       "      <th>sttl</th>\n",
       "      <th>dttl</th>\n",
       "      <th>service</th>\n",
       "      <th>swin</th>\n",
       "      <th>trans_depth</th>\n",
       "      <th>res_bdy_len</th>\n",
       "      <th>stime</th>\n",
       "      <th>sintpkt</th>\n",
       "      <th>dintpkt</th>\n",
       "      <th>tcprtt</th>\n",
       "      <th>synack</th>\n",
       "      <th>ackdat</th>\n",
       "      <th>is_sm_ips_ports</th>\n",
       "      <th>ct_state_ttl</th>\n",
       "      <th>ct_flw_http_mthd</th>\n",
       "      <th>is_ftp_login</th>\n",
       "      <th>ct_ftp_cmd</th>\n",
       "      <th>ct_srv_src</th>\n",
       "      <th>ct_dst_ltm</th>\n",
       "      <th>ct_src_ltm</th>\n",
       "      <th>ct_dst_sport_ltm</th>\n",
       "      <th>dur_log1p</th>\n",
       "      <th>sbytes_log1p</th>\n",
       "      <th>dbytes_log1p</th>\n",
       "      <th>sload_log1p</th>\n",
       "      <th>dload_log1p</th>\n",
       "      <th>spkts_log1p</th>\n",
       "      <th>stcpb_log1p</th>\n",
       "      <th>dtcpb_log1p</th>\n",
       "      <th>smeansz_log1p</th>\n",
       "      <th>dmeansz_log1p</th>\n",
       "      <th>sjit_log1p</th>\n",
       "      <th>djit_log1p</th>\n",
       "      <th>network_bytes_log1p</th>\n",
       "    </tr>\n",
       "  </thead>\n",
       "  <tbody>\n",
       "    <tr>\n",
       "      <th>0</th>\n",
       "      <td>udp</td>\n",
       "      <td>CON</td>\n",
       "      <td>1.775189</td>\n",
       "      <td>-0.964938</td>\n",
       "      <td>dns</td>\n",
       "      <td>-0.789226</td>\n",
       "      <td>-0.581776</td>\n",
       "      <td>-0.382468</td>\n",
       "      <td>3.514142e+10</td>\n",
       "      <td>-1.878061</td>\n",
       "      <td>-7.270119</td>\n",
       "      <td>-1.703404</td>\n",
       "      <td>-4.335660</td>\n",
       "      <td>-0.995343</td>\n",
       "      <td>-0.111699</td>\n",
       "      <td>-0.13202</td>\n",
       "      <td>-1.850553</td>\n",
       "      <td>-0.841353</td>\n",
       "      <td>-1254.632022</td>\n",
       "      <td>-0.417373</td>\n",
       "      <td>-0.089072</td>\n",
       "      <td>128.349675</td>\n",
       "      <td>39.174197</td>\n",
       "      <td>-0.445470</td>\n",
       "      <td>-0.067822</td>\n",
       "      <td>-0.596769</td>\n",
       "      <td>292.602505</td>\n",
       "      <td>36.097275</td>\n",
       "      <td>1.778657</td>\n",
       "      <td>-0.841345</td>\n",
       "      <td>-0.055099</td>\n",
       "      <td>-0.778350</td>\n",
       "      <td>-0.434216</td>\n",
       "      <td>-4.211001</td>\n",
       "      <td>-3.448839</td>\n",
       "      <td>1.154860</td>\n",
       "    </tr>\n",
       "    <tr>\n",
       "      <th>1</th>\n",
       "      <td>udp</td>\n",
       "      <td>CON</td>\n",
       "      <td>1.775189</td>\n",
       "      <td>-0.964938</td>\n",
       "      <td>dns</td>\n",
       "      <td>-0.789226</td>\n",
       "      <td>-0.581776</td>\n",
       "      <td>-0.382468</td>\n",
       "      <td>3.514099e+10</td>\n",
       "      <td>-1.879116</td>\n",
       "      <td>-7.265306</td>\n",
       "      <td>-1.703404</td>\n",
       "      <td>-4.335660</td>\n",
       "      <td>-0.995343</td>\n",
       "      <td>-0.111699</td>\n",
       "      <td>-0.13202</td>\n",
       "      <td>-1.850553</td>\n",
       "      <td>-0.841353</td>\n",
       "      <td>-1254.632022</td>\n",
       "      <td>1.790426</td>\n",
       "      <td>-0.088988</td>\n",
       "      <td>128.349675</td>\n",
       "      <td>39.174197</td>\n",
       "      <td>-0.445529</td>\n",
       "      <td>-0.067822</td>\n",
       "      <td>-0.596769</td>\n",
       "      <td>293.229567</td>\n",
       "      <td>36.173933</td>\n",
       "      <td>1.778657</td>\n",
       "      <td>-0.841345</td>\n",
       "      <td>-0.055099</td>\n",
       "      <td>-0.778350</td>\n",
       "      <td>-0.434216</td>\n",
       "      <td>-4.211001</td>\n",
       "      <td>-3.448839</td>\n",
       "      <td>1.154860</td>\n",
       "    </tr>\n",
       "    <tr>\n",
       "      <th>2</th>\n",
       "      <td>udp</td>\n",
       "      <td>INT</td>\n",
       "      <td>4.548792</td>\n",
       "      <td>-1.196045</td>\n",
       "      <td>dns</td>\n",
       "      <td>-0.789226</td>\n",
       "      <td>-0.581776</td>\n",
       "      <td>-0.382468</td>\n",
       "      <td>3.519761e+10</td>\n",
       "      <td>-1.878413</td>\n",
       "      <td>-7.279745</td>\n",
       "      <td>-1.703404</td>\n",
       "      <td>-4.335660</td>\n",
       "      <td>-0.995343</td>\n",
       "      <td>-0.111699</td>\n",
       "      <td>-0.13202</td>\n",
       "      <td>-1.850553</td>\n",
       "      <td>-0.841353</td>\n",
       "      <td>-1254.632022</td>\n",
       "      <td>20.924684</td>\n",
       "      <td>-0.088590</td>\n",
       "      <td>1070.488842</td>\n",
       "      <td>982.448360</td>\n",
       "      <td>-0.447580</td>\n",
       "      <td>-0.067610</td>\n",
       "      <td>-0.717760</td>\n",
       "      <td>410.641491</td>\n",
       "      <td>-0.225343</td>\n",
       "      <td>1.778657</td>\n",
       "      <td>-0.841345</td>\n",
       "      <td>-0.055099</td>\n",
       "      <td>-0.722275</td>\n",
       "      <td>-0.849663</td>\n",
       "      <td>-4.211001</td>\n",
       "      <td>-3.448839</td>\n",
       "      <td>1.082362</td>\n",
       "    </tr>\n",
       "    <tr>\n",
       "      <th>3</th>\n",
       "      <td>tcp</td>\n",
       "      <td>FIN</td>\n",
       "      <td>1.775189</td>\n",
       "      <td>-0.964938</td>\n",
       "      <td>None</td>\n",
       "      <td>30.473001</td>\n",
       "      <td>-0.581776</td>\n",
       "      <td>-0.382468</td>\n",
       "      <td>3.514115e+10</td>\n",
       "      <td>-1.830755</td>\n",
       "      <td>-6.848370</td>\n",
       "      <td>-1.703222</td>\n",
       "      <td>-4.335486</td>\n",
       "      <td>-0.995296</td>\n",
       "      <td>-0.111699</td>\n",
       "      <td>-0.13202</td>\n",
       "      <td>-1.850553</td>\n",
       "      <td>-0.841353</td>\n",
       "      <td>-1254.632022</td>\n",
       "      <td>3.262292</td>\n",
       "      <td>-0.088988</td>\n",
       "      <td>256.823197</td>\n",
       "      <td>39.174197</td>\n",
       "      <td>-0.437109</td>\n",
       "      <td>-0.066640</td>\n",
       "      <td>-0.535677</td>\n",
       "      <td>344.101262</td>\n",
       "      <td>40.593628</td>\n",
       "      <td>5.100170</td>\n",
       "      <td>1.821291</td>\n",
       "      <td>-0.039918</td>\n",
       "      <td>-0.674575</td>\n",
       "      <td>-0.395423</td>\n",
       "      <td>-2.574204</td>\n",
       "      <td>-3.321848</td>\n",
       "      <td>2.212211</td>\n",
       "    </tr>\n",
       "    <tr>\n",
       "      <th>4</th>\n",
       "      <td>udp</td>\n",
       "      <td>CON</td>\n",
       "      <td>1.775189</td>\n",
       "      <td>-0.964938</td>\n",
       "      <td>dns</td>\n",
       "      <td>-0.789226</td>\n",
       "      <td>-0.581776</td>\n",
       "      <td>-0.382468</td>\n",
       "      <td>3.519786e+10</td>\n",
       "      <td>-1.878588</td>\n",
       "      <td>-7.270119</td>\n",
       "      <td>-1.703404</td>\n",
       "      <td>-4.335660</td>\n",
       "      <td>-0.995343</td>\n",
       "      <td>-0.111699</td>\n",
       "      <td>-0.13202</td>\n",
       "      <td>-1.850553</td>\n",
       "      <td>-0.841353</td>\n",
       "      <td>-1254.632022</td>\n",
       "      <td>0.318560</td>\n",
       "      <td>-0.089093</td>\n",
       "      <td>85.525167</td>\n",
       "      <td>39.174197</td>\n",
       "      <td>-0.445271</td>\n",
       "      <td>-0.067822</td>\n",
       "      <td>-0.596769</td>\n",
       "      <td>290.625628</td>\n",
       "      <td>35.855604</td>\n",
       "      <td>1.778657</td>\n",
       "      <td>-0.841345</td>\n",
       "      <td>-0.055099</td>\n",
       "      <td>-0.778350</td>\n",
       "      <td>-0.434216</td>\n",
       "      <td>-4.211001</td>\n",
       "      <td>-3.448839</td>\n",
       "      <td>1.154860</td>\n",
       "    </tr>\n",
       "  </tbody>\n",
       "</table>\n",
       "</div>"
      ],
      "text/plain": [
       "  proto state      sttl  ...  sjit_log1p djit_log1p  network_bytes_log1p\n",
       "0   udp   CON  1.775189  ...   -4.211001  -3.448839             1.154860\n",
       "1   udp   CON  1.775189  ...   -4.211001  -3.448839             1.154860\n",
       "2   udp   INT  4.548792  ...   -4.211001  -3.448839             1.082362\n",
       "3   tcp   FIN  1.775189  ...   -2.574204  -3.321848             2.212211\n",
       "4   udp   CON  1.775189  ...   -4.211001  -3.448839             1.154860\n",
       "\n",
       "[5 rows x 36 columns]"
      ]
     },
     "execution_count": 48,
     "metadata": {
      "tags": []
     },
     "output_type": "execute_result"
    }
   ],
   "source": [
    "x_test.head()"
   ]
  },
  {
   "cell_type": "code",
   "execution_count": null,
   "metadata": {
    "colab": {},
    "colab_type": "code",
    "id": "rfVelvrWaRRS"
   },
   "outputs": [],
   "source": [
    "# Onehot encoding categorical columns using ohencoding()\n",
    "x_test = ohencoding(x_test)"
   ]
  },
  {
   "cell_type": "code",
   "execution_count": null,
   "metadata": {
    "colab": {
     "base_uri": "https://localhost:8080/",
     "height": 34
    },
    "colab_type": "code",
    "executionInfo": {
     "elapsed": 821,
     "status": "ok",
     "timestamp": 1598254875109,
     "user": {
      "displayName": "Subrata Maji",
      "photoUrl": "https://lh3.googleusercontent.com/a-/AOh14Ghxu8VIGqB6XL51-t5wM_f1R1LdmEePYHIwb9b-=s64",
      "userId": "03124174213573157612"
     },
     "user_tz": -330
    },
    "id": "Yvpv3XcPr8P8",
    "outputId": "f1b76f84-12d0-4aa9-e4d6-0d11ffd5f5ce"
   },
   "outputs": [
    {
     "data": {
      "text/plain": [
       "(762015, 197)"
      ]
     },
     "execution_count": 50,
     "metadata": {
      "tags": []
     },
     "output_type": "execute_result"
    }
   ],
   "source": [
    "x_test.shape"
   ]
  },
  {
   "cell_type": "code",
   "execution_count": null,
   "metadata": {
    "colab": {
     "base_uri": "https://localhost:8080/",
     "height": 270
    },
    "colab_type": "code",
    "executionInfo": {
     "elapsed": 932,
     "status": "ok",
     "timestamp": 1598254877225,
     "user": {
      "displayName": "Subrata Maji",
      "photoUrl": "https://lh3.googleusercontent.com/a-/AOh14Ghxu8VIGqB6XL51-t5wM_f1R1LdmEePYHIwb9b-=s64",
      "userId": "03124174213573157612"
     },
     "user_tz": -330
    },
    "id": "_9x_SlYSuxNU",
    "outputId": "dfe86c01-49f4-44a0-fc2b-9764b6b47db2"
   },
   "outputs": [
    {
     "data": {
      "text/html": [
       "<div>\n",
       "<style scoped>\n",
       "    .dataframe tbody tr th:only-of-type {\n",
       "        vertical-align: middle;\n",
       "    }\n",
       "\n",
       "    .dataframe tbody tr th {\n",
       "        vertical-align: top;\n",
       "    }\n",
       "\n",
       "    .dataframe thead th {\n",
       "        text-align: right;\n",
       "    }\n",
       "</style>\n",
       "<table border=\"1\" class=\"dataframe\">\n",
       "  <thead>\n",
       "    <tr style=\"text-align: right;\">\n",
       "      <th></th>\n",
       "      <th>sttl</th>\n",
       "      <th>dttl</th>\n",
       "      <th>swin</th>\n",
       "      <th>trans_depth</th>\n",
       "      <th>res_bdy_len</th>\n",
       "      <th>stime</th>\n",
       "      <th>sintpkt</th>\n",
       "      <th>dintpkt</th>\n",
       "      <th>tcprtt</th>\n",
       "      <th>synack</th>\n",
       "      <th>ackdat</th>\n",
       "      <th>is_sm_ips_ports</th>\n",
       "      <th>ct_state_ttl</th>\n",
       "      <th>ct_flw_http_mthd</th>\n",
       "      <th>is_ftp_login</th>\n",
       "      <th>ct_ftp_cmd</th>\n",
       "      <th>ct_srv_src</th>\n",
       "      <th>ct_dst_ltm</th>\n",
       "      <th>ct_src_ltm</th>\n",
       "      <th>ct_dst_sport_ltm</th>\n",
       "      <th>dur_log1p</th>\n",
       "      <th>sbytes_log1p</th>\n",
       "      <th>dbytes_log1p</th>\n",
       "      <th>sload_log1p</th>\n",
       "      <th>dload_log1p</th>\n",
       "      <th>spkts_log1p</th>\n",
       "      <th>stcpb_log1p</th>\n",
       "      <th>dtcpb_log1p</th>\n",
       "      <th>smeansz_log1p</th>\n",
       "      <th>dmeansz_log1p</th>\n",
       "      <th>sjit_log1p</th>\n",
       "      <th>djit_log1p</th>\n",
       "      <th>network_bytes_log1p</th>\n",
       "      <th>proto_3pc</th>\n",
       "      <th>proto_a/n</th>\n",
       "      <th>proto_aes-sp3-d</th>\n",
       "      <th>proto_any</th>\n",
       "      <th>proto_argus</th>\n",
       "      <th>proto_aris</th>\n",
       "      <th>proto_arp</th>\n",
       "      <th>...</th>\n",
       "      <th>proto_vines</th>\n",
       "      <th>proto_visa</th>\n",
       "      <th>proto_vmtp</th>\n",
       "      <th>proto_vrrp</th>\n",
       "      <th>proto_wb-expak</th>\n",
       "      <th>proto_wb-mon</th>\n",
       "      <th>proto_wsn</th>\n",
       "      <th>proto_xnet</th>\n",
       "      <th>proto_xns-idp</th>\n",
       "      <th>proto_xtp</th>\n",
       "      <th>proto_zero</th>\n",
       "      <th>service_None</th>\n",
       "      <th>service_dhcp</th>\n",
       "      <th>service_dns</th>\n",
       "      <th>service_ftp</th>\n",
       "      <th>service_ftp-data</th>\n",
       "      <th>service_http</th>\n",
       "      <th>service_irc</th>\n",
       "      <th>service_pop3</th>\n",
       "      <th>service_radius</th>\n",
       "      <th>service_smtp</th>\n",
       "      <th>service_snmp</th>\n",
       "      <th>service_ssh</th>\n",
       "      <th>service_ssl</th>\n",
       "      <th>state_ACC</th>\n",
       "      <th>state_CLO</th>\n",
       "      <th>state_CON</th>\n",
       "      <th>state_ECO</th>\n",
       "      <th>state_ECR</th>\n",
       "      <th>state_FIN</th>\n",
       "      <th>state_INT</th>\n",
       "      <th>state_MAS</th>\n",
       "      <th>state_PAR</th>\n",
       "      <th>state_REQ</th>\n",
       "      <th>state_RST</th>\n",
       "      <th>state_TST</th>\n",
       "      <th>state_TXD</th>\n",
       "      <th>state_URH</th>\n",
       "      <th>state_URN</th>\n",
       "      <th>state_no</th>\n",
       "    </tr>\n",
       "  </thead>\n",
       "  <tbody>\n",
       "    <tr>\n",
       "      <th>0</th>\n",
       "      <td>1.775189</td>\n",
       "      <td>-0.964938</td>\n",
       "      <td>-0.789226</td>\n",
       "      <td>-0.581776</td>\n",
       "      <td>-0.382468</td>\n",
       "      <td>3.514142e+10</td>\n",
       "      <td>-1.878061</td>\n",
       "      <td>-7.270119</td>\n",
       "      <td>-1.703404</td>\n",
       "      <td>-4.335660</td>\n",
       "      <td>-0.995343</td>\n",
       "      <td>-0.111699</td>\n",
       "      <td>-0.13202</td>\n",
       "      <td>-1.850553</td>\n",
       "      <td>-0.841353</td>\n",
       "      <td>-1254.632022</td>\n",
       "      <td>-0.417373</td>\n",
       "      <td>-0.089072</td>\n",
       "      <td>128.349675</td>\n",
       "      <td>39.174197</td>\n",
       "      <td>-0.445470</td>\n",
       "      <td>-0.067822</td>\n",
       "      <td>-0.596769</td>\n",
       "      <td>292.602505</td>\n",
       "      <td>36.097275</td>\n",
       "      <td>1.778657</td>\n",
       "      <td>-0.841345</td>\n",
       "      <td>-0.055099</td>\n",
       "      <td>-0.778350</td>\n",
       "      <td>-0.434216</td>\n",
       "      <td>-4.211001</td>\n",
       "      <td>-3.448839</td>\n",
       "      <td>1.154860</td>\n",
       "      <td>0.0</td>\n",
       "      <td>0.0</td>\n",
       "      <td>0.0</td>\n",
       "      <td>0.0</td>\n",
       "      <td>0.0</td>\n",
       "      <td>0.0</td>\n",
       "      <td>0.0</td>\n",
       "      <td>...</td>\n",
       "      <td>0.0</td>\n",
       "      <td>0.0</td>\n",
       "      <td>0.0</td>\n",
       "      <td>0.0</td>\n",
       "      <td>0.0</td>\n",
       "      <td>0.0</td>\n",
       "      <td>0.0</td>\n",
       "      <td>0.0</td>\n",
       "      <td>0.0</td>\n",
       "      <td>0.0</td>\n",
       "      <td>0.0</td>\n",
       "      <td>0.0</td>\n",
       "      <td>0.0</td>\n",
       "      <td>1.0</td>\n",
       "      <td>0.0</td>\n",
       "      <td>0.0</td>\n",
       "      <td>0.0</td>\n",
       "      <td>0.0</td>\n",
       "      <td>0.0</td>\n",
       "      <td>0.0</td>\n",
       "      <td>0.0</td>\n",
       "      <td>0.0</td>\n",
       "      <td>0.0</td>\n",
       "      <td>0.0</td>\n",
       "      <td>0.0</td>\n",
       "      <td>0.0</td>\n",
       "      <td>1.0</td>\n",
       "      <td>0.0</td>\n",
       "      <td>0.0</td>\n",
       "      <td>0.0</td>\n",
       "      <td>0.0</td>\n",
       "      <td>0.0</td>\n",
       "      <td>0.0</td>\n",
       "      <td>0.0</td>\n",
       "      <td>0.0</td>\n",
       "      <td>0.0</td>\n",
       "      <td>0.0</td>\n",
       "      <td>0.0</td>\n",
       "      <td>0.0</td>\n",
       "      <td>0.0</td>\n",
       "    </tr>\n",
       "    <tr>\n",
       "      <th>1</th>\n",
       "      <td>1.775189</td>\n",
       "      <td>-0.964938</td>\n",
       "      <td>-0.789226</td>\n",
       "      <td>-0.581776</td>\n",
       "      <td>-0.382468</td>\n",
       "      <td>3.514099e+10</td>\n",
       "      <td>-1.879116</td>\n",
       "      <td>-7.265306</td>\n",
       "      <td>-1.703404</td>\n",
       "      <td>-4.335660</td>\n",
       "      <td>-0.995343</td>\n",
       "      <td>-0.111699</td>\n",
       "      <td>-0.13202</td>\n",
       "      <td>-1.850553</td>\n",
       "      <td>-0.841353</td>\n",
       "      <td>-1254.632022</td>\n",
       "      <td>1.790426</td>\n",
       "      <td>-0.088988</td>\n",
       "      <td>128.349675</td>\n",
       "      <td>39.174197</td>\n",
       "      <td>-0.445529</td>\n",
       "      <td>-0.067822</td>\n",
       "      <td>-0.596769</td>\n",
       "      <td>293.229567</td>\n",
       "      <td>36.173933</td>\n",
       "      <td>1.778657</td>\n",
       "      <td>-0.841345</td>\n",
       "      <td>-0.055099</td>\n",
       "      <td>-0.778350</td>\n",
       "      <td>-0.434216</td>\n",
       "      <td>-4.211001</td>\n",
       "      <td>-3.448839</td>\n",
       "      <td>1.154860</td>\n",
       "      <td>0.0</td>\n",
       "      <td>0.0</td>\n",
       "      <td>0.0</td>\n",
       "      <td>0.0</td>\n",
       "      <td>0.0</td>\n",
       "      <td>0.0</td>\n",
       "      <td>0.0</td>\n",
       "      <td>...</td>\n",
       "      <td>0.0</td>\n",
       "      <td>0.0</td>\n",
       "      <td>0.0</td>\n",
       "      <td>0.0</td>\n",
       "      <td>0.0</td>\n",
       "      <td>0.0</td>\n",
       "      <td>0.0</td>\n",
       "      <td>0.0</td>\n",
       "      <td>0.0</td>\n",
       "      <td>0.0</td>\n",
       "      <td>0.0</td>\n",
       "      <td>0.0</td>\n",
       "      <td>0.0</td>\n",
       "      <td>1.0</td>\n",
       "      <td>0.0</td>\n",
       "      <td>0.0</td>\n",
       "      <td>0.0</td>\n",
       "      <td>0.0</td>\n",
       "      <td>0.0</td>\n",
       "      <td>0.0</td>\n",
       "      <td>0.0</td>\n",
       "      <td>0.0</td>\n",
       "      <td>0.0</td>\n",
       "      <td>0.0</td>\n",
       "      <td>0.0</td>\n",
       "      <td>0.0</td>\n",
       "      <td>1.0</td>\n",
       "      <td>0.0</td>\n",
       "      <td>0.0</td>\n",
       "      <td>0.0</td>\n",
       "      <td>0.0</td>\n",
       "      <td>0.0</td>\n",
       "      <td>0.0</td>\n",
       "      <td>0.0</td>\n",
       "      <td>0.0</td>\n",
       "      <td>0.0</td>\n",
       "      <td>0.0</td>\n",
       "      <td>0.0</td>\n",
       "      <td>0.0</td>\n",
       "      <td>0.0</td>\n",
       "    </tr>\n",
       "    <tr>\n",
       "      <th>2</th>\n",
       "      <td>4.548792</td>\n",
       "      <td>-1.196045</td>\n",
       "      <td>-0.789226</td>\n",
       "      <td>-0.581776</td>\n",
       "      <td>-0.382468</td>\n",
       "      <td>3.519761e+10</td>\n",
       "      <td>-1.878413</td>\n",
       "      <td>-7.279745</td>\n",
       "      <td>-1.703404</td>\n",
       "      <td>-4.335660</td>\n",
       "      <td>-0.995343</td>\n",
       "      <td>-0.111699</td>\n",
       "      <td>-0.13202</td>\n",
       "      <td>-1.850553</td>\n",
       "      <td>-0.841353</td>\n",
       "      <td>-1254.632022</td>\n",
       "      <td>20.924684</td>\n",
       "      <td>-0.088590</td>\n",
       "      <td>1070.488842</td>\n",
       "      <td>982.448360</td>\n",
       "      <td>-0.447580</td>\n",
       "      <td>-0.067610</td>\n",
       "      <td>-0.717760</td>\n",
       "      <td>410.641491</td>\n",
       "      <td>-0.225343</td>\n",
       "      <td>1.778657</td>\n",
       "      <td>-0.841345</td>\n",
       "      <td>-0.055099</td>\n",
       "      <td>-0.722275</td>\n",
       "      <td>-0.849663</td>\n",
       "      <td>-4.211001</td>\n",
       "      <td>-3.448839</td>\n",
       "      <td>1.082362</td>\n",
       "      <td>0.0</td>\n",
       "      <td>0.0</td>\n",
       "      <td>0.0</td>\n",
       "      <td>0.0</td>\n",
       "      <td>0.0</td>\n",
       "      <td>0.0</td>\n",
       "      <td>0.0</td>\n",
       "      <td>...</td>\n",
       "      <td>0.0</td>\n",
       "      <td>0.0</td>\n",
       "      <td>0.0</td>\n",
       "      <td>0.0</td>\n",
       "      <td>0.0</td>\n",
       "      <td>0.0</td>\n",
       "      <td>0.0</td>\n",
       "      <td>0.0</td>\n",
       "      <td>0.0</td>\n",
       "      <td>0.0</td>\n",
       "      <td>0.0</td>\n",
       "      <td>0.0</td>\n",
       "      <td>0.0</td>\n",
       "      <td>1.0</td>\n",
       "      <td>0.0</td>\n",
       "      <td>0.0</td>\n",
       "      <td>0.0</td>\n",
       "      <td>0.0</td>\n",
       "      <td>0.0</td>\n",
       "      <td>0.0</td>\n",
       "      <td>0.0</td>\n",
       "      <td>0.0</td>\n",
       "      <td>0.0</td>\n",
       "      <td>0.0</td>\n",
       "      <td>0.0</td>\n",
       "      <td>0.0</td>\n",
       "      <td>0.0</td>\n",
       "      <td>0.0</td>\n",
       "      <td>0.0</td>\n",
       "      <td>0.0</td>\n",
       "      <td>1.0</td>\n",
       "      <td>0.0</td>\n",
       "      <td>0.0</td>\n",
       "      <td>0.0</td>\n",
       "      <td>0.0</td>\n",
       "      <td>0.0</td>\n",
       "      <td>0.0</td>\n",
       "      <td>0.0</td>\n",
       "      <td>0.0</td>\n",
       "      <td>0.0</td>\n",
       "    </tr>\n",
       "    <tr>\n",
       "      <th>3</th>\n",
       "      <td>1.775189</td>\n",
       "      <td>-0.964938</td>\n",
       "      <td>30.473001</td>\n",
       "      <td>-0.581776</td>\n",
       "      <td>-0.382468</td>\n",
       "      <td>3.514115e+10</td>\n",
       "      <td>-1.830755</td>\n",
       "      <td>-6.848370</td>\n",
       "      <td>-1.703222</td>\n",
       "      <td>-4.335486</td>\n",
       "      <td>-0.995296</td>\n",
       "      <td>-0.111699</td>\n",
       "      <td>-0.13202</td>\n",
       "      <td>-1.850553</td>\n",
       "      <td>-0.841353</td>\n",
       "      <td>-1254.632022</td>\n",
       "      <td>3.262292</td>\n",
       "      <td>-0.088988</td>\n",
       "      <td>256.823197</td>\n",
       "      <td>39.174197</td>\n",
       "      <td>-0.437109</td>\n",
       "      <td>-0.066640</td>\n",
       "      <td>-0.535677</td>\n",
       "      <td>344.101262</td>\n",
       "      <td>40.593628</td>\n",
       "      <td>5.100170</td>\n",
       "      <td>1.821291</td>\n",
       "      <td>-0.039918</td>\n",
       "      <td>-0.674575</td>\n",
       "      <td>-0.395423</td>\n",
       "      <td>-2.574204</td>\n",
       "      <td>-3.321848</td>\n",
       "      <td>2.212211</td>\n",
       "      <td>0.0</td>\n",
       "      <td>0.0</td>\n",
       "      <td>0.0</td>\n",
       "      <td>0.0</td>\n",
       "      <td>0.0</td>\n",
       "      <td>0.0</td>\n",
       "      <td>0.0</td>\n",
       "      <td>...</td>\n",
       "      <td>0.0</td>\n",
       "      <td>0.0</td>\n",
       "      <td>0.0</td>\n",
       "      <td>0.0</td>\n",
       "      <td>0.0</td>\n",
       "      <td>0.0</td>\n",
       "      <td>0.0</td>\n",
       "      <td>0.0</td>\n",
       "      <td>0.0</td>\n",
       "      <td>0.0</td>\n",
       "      <td>0.0</td>\n",
       "      <td>1.0</td>\n",
       "      <td>0.0</td>\n",
       "      <td>0.0</td>\n",
       "      <td>0.0</td>\n",
       "      <td>0.0</td>\n",
       "      <td>0.0</td>\n",
       "      <td>0.0</td>\n",
       "      <td>0.0</td>\n",
       "      <td>0.0</td>\n",
       "      <td>0.0</td>\n",
       "      <td>0.0</td>\n",
       "      <td>0.0</td>\n",
       "      <td>0.0</td>\n",
       "      <td>0.0</td>\n",
       "      <td>0.0</td>\n",
       "      <td>0.0</td>\n",
       "      <td>0.0</td>\n",
       "      <td>0.0</td>\n",
       "      <td>1.0</td>\n",
       "      <td>0.0</td>\n",
       "      <td>0.0</td>\n",
       "      <td>0.0</td>\n",
       "      <td>0.0</td>\n",
       "      <td>0.0</td>\n",
       "      <td>0.0</td>\n",
       "      <td>0.0</td>\n",
       "      <td>0.0</td>\n",
       "      <td>0.0</td>\n",
       "      <td>0.0</td>\n",
       "    </tr>\n",
       "    <tr>\n",
       "      <th>4</th>\n",
       "      <td>1.775189</td>\n",
       "      <td>-0.964938</td>\n",
       "      <td>-0.789226</td>\n",
       "      <td>-0.581776</td>\n",
       "      <td>-0.382468</td>\n",
       "      <td>3.519786e+10</td>\n",
       "      <td>-1.878588</td>\n",
       "      <td>-7.270119</td>\n",
       "      <td>-1.703404</td>\n",
       "      <td>-4.335660</td>\n",
       "      <td>-0.995343</td>\n",
       "      <td>-0.111699</td>\n",
       "      <td>-0.13202</td>\n",
       "      <td>-1.850553</td>\n",
       "      <td>-0.841353</td>\n",
       "      <td>-1254.632022</td>\n",
       "      <td>0.318560</td>\n",
       "      <td>-0.089093</td>\n",
       "      <td>85.525167</td>\n",
       "      <td>39.174197</td>\n",
       "      <td>-0.445271</td>\n",
       "      <td>-0.067822</td>\n",
       "      <td>-0.596769</td>\n",
       "      <td>290.625628</td>\n",
       "      <td>35.855604</td>\n",
       "      <td>1.778657</td>\n",
       "      <td>-0.841345</td>\n",
       "      <td>-0.055099</td>\n",
       "      <td>-0.778350</td>\n",
       "      <td>-0.434216</td>\n",
       "      <td>-4.211001</td>\n",
       "      <td>-3.448839</td>\n",
       "      <td>1.154860</td>\n",
       "      <td>0.0</td>\n",
       "      <td>0.0</td>\n",
       "      <td>0.0</td>\n",
       "      <td>0.0</td>\n",
       "      <td>0.0</td>\n",
       "      <td>0.0</td>\n",
       "      <td>0.0</td>\n",
       "      <td>...</td>\n",
       "      <td>0.0</td>\n",
       "      <td>0.0</td>\n",
       "      <td>0.0</td>\n",
       "      <td>0.0</td>\n",
       "      <td>0.0</td>\n",
       "      <td>0.0</td>\n",
       "      <td>0.0</td>\n",
       "      <td>0.0</td>\n",
       "      <td>0.0</td>\n",
       "      <td>0.0</td>\n",
       "      <td>0.0</td>\n",
       "      <td>0.0</td>\n",
       "      <td>0.0</td>\n",
       "      <td>1.0</td>\n",
       "      <td>0.0</td>\n",
       "      <td>0.0</td>\n",
       "      <td>0.0</td>\n",
       "      <td>0.0</td>\n",
       "      <td>0.0</td>\n",
       "      <td>0.0</td>\n",
       "      <td>0.0</td>\n",
       "      <td>0.0</td>\n",
       "      <td>0.0</td>\n",
       "      <td>0.0</td>\n",
       "      <td>0.0</td>\n",
       "      <td>0.0</td>\n",
       "      <td>1.0</td>\n",
       "      <td>0.0</td>\n",
       "      <td>0.0</td>\n",
       "      <td>0.0</td>\n",
       "      <td>0.0</td>\n",
       "      <td>0.0</td>\n",
       "      <td>0.0</td>\n",
       "      <td>0.0</td>\n",
       "      <td>0.0</td>\n",
       "      <td>0.0</td>\n",
       "      <td>0.0</td>\n",
       "      <td>0.0</td>\n",
       "      <td>0.0</td>\n",
       "      <td>0.0</td>\n",
       "    </tr>\n",
       "  </tbody>\n",
       "</table>\n",
       "<p>5 rows × 197 columns</p>\n",
       "</div>"
      ],
      "text/plain": [
       "       sttl      dttl       swin  ...  state_URH  state_URN  state_no\n",
       "0  1.775189 -0.964938  -0.789226  ...        0.0        0.0       0.0\n",
       "1  1.775189 -0.964938  -0.789226  ...        0.0        0.0       0.0\n",
       "2  4.548792 -1.196045  -0.789226  ...        0.0        0.0       0.0\n",
       "3  1.775189 -0.964938  30.473001  ...        0.0        0.0       0.0\n",
       "4  1.775189 -0.964938  -0.789226  ...        0.0        0.0       0.0\n",
       "\n",
       "[5 rows x 197 columns]"
      ]
     },
     "execution_count": 51,
     "metadata": {
      "tags": []
     },
     "output_type": "execute_result"
    }
   ],
   "source": [
    "# Final test data\n",
    "x_test.head()"
   ]
  },
  {
   "cell_type": "code",
   "execution_count": null,
   "metadata": {
    "colab": {
     "base_uri": "https://localhost:8080/",
     "height": 34
    },
    "colab_type": "code",
    "executionInfo": {
     "elapsed": 912,
     "status": "ok",
     "timestamp": 1598254883093,
     "user": {
      "displayName": "Subrata Maji",
      "photoUrl": "https://lh3.googleusercontent.com/a-/AOh14Ghxu8VIGqB6XL51-t5wM_f1R1LdmEePYHIwb9b-=s64",
      "userId": "03124174213573157612"
     },
     "user_tz": -330
    },
    "id": "Xfgg1xv6oe5a",
    "outputId": "fd78e545-c224-4e27-8321-f4956fbaabd3"
   },
   "outputs": [
    {
     "data": {
      "text/plain": [
       "True"
      ]
     },
     "execution_count": 52,
     "metadata": {
      "tags": []
     },
     "output_type": "execute_result"
    }
   ],
   "source": [
    "# Matching test data columns with train data columns\n",
    "all(x_train.columns == x_test.columns)"
   ]
  },
  {
   "cell_type": "code",
   "execution_count": null,
   "metadata": {
    "colab": {},
    "colab_type": "code",
    "id": "I2RqN_AxiZBw"
   },
   "outputs": [],
   "source": []
  }
 ],
 "metadata": {
  "colab": {
   "authorship_tag": "ABX9TyPXGF2NJxYdMQ6udPW7Xp71",
   "collapsed_sections": [],
   "name": "CS1_Feature_Engineering.ipynb",
   "provenance": []
  },
  "kernelspec": {
   "display_name": "Python 3 (ipykernel)",
   "language": "python",
   "name": "python3"
  },
  "language_info": {
   "codemirror_mode": {
    "name": "ipython",
    "version": 3
   },
   "file_extension": ".py",
   "mimetype": "text/x-python",
   "name": "python",
   "nbconvert_exporter": "python",
   "pygments_lexer": "ipython3",
   "version": "3.8.18"
  },
  "toc": {
   "base_numbering": 1,
   "nav_menu": {},
   "number_sections": true,
   "sideBar": true,
   "skip_h1_title": false,
   "title_cell": "Table of Contents",
   "title_sidebar": "Contents",
   "toc_cell": false,
   "toc_position": {},
   "toc_section_display": true,
   "toc_window_display": false
  }
 },
 "nbformat": 4,
 "nbformat_minor": 4
}
